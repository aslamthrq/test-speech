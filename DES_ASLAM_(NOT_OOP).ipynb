{
  "cells": [
    {
      "cell_type": "markdown",
      "metadata": {
        "id": "LmzWb3FvMW0t"
      },
      "source": [
        "# **DES (Data Encryption System)**\n",
        "**Skema :**\n",
        "\n",
        "> Blok plainteks dipermutasi dengan matriks permutasi awal (initial permutation atau IP)\n",
        "\n",
        "> Hasil permutasi awal kemudian di-enciphering- sebanyak 16 kali (16 putaran). Setiap putaran menggunakan kunci internal yang berbeda.\n",
        "\n",
        "> Hasil enciphering kemudian dipermutasi dengan matriks permutasi balikan (invers initial permutation atau IP-1 ) menjadi blok cipherteks\n",
        "\n",
        "\n",
        "\n",
        "\n",
        "- **Nama\t: Aslam Thariq Akbar Akrami**\n",
        "- **NIM\t: A11.2021.13224**"
      ]
    },
    {
      "cell_type": "markdown",
      "metadata": {
        "id": "Z9g2mDuvMW0v"
      },
      "source": [
        "# **1. Inputan Plaintext dan Kunci**"
      ]
    },
    {
      "cell_type": "code",
      "execution_count": 1,
      "metadata": {
        "id": "Khijg08Szzka",
        "colab": {
          "base_uri": "https://localhost:8080/"
        },
        "outputId": "727bccc2-b00e-47c8-9ffe-790e6a2d3be3"
      },
      "outputs": [
        {
          "output_type": "stream",
          "name": "stdout",
          "text": [
            "Masukkan teks 8 karakter: COMPUTER\n",
            "PlainText\t\t: COMPUTER\n",
            "Masukkan kunci bentuk hex: 133457799BBCDFF1\n",
            "Kunci\t\t\t: 133457799BBCDFF1\n"
          ]
        }
      ],
      "source": [
        "while True:\n",
        "    pt = input(\"Masukkan teks 8 karakter: \")\n",
        "    if len(pt) == 8:\n",
        "        break\n",
        "    else:\n",
        "        print(\"Panjang teks harus 8 karakter!\")\n",
        "print(\"PlainText\t\t:\", pt)\n",
        "\n",
        "\n",
        "while True:\n",
        "    key = input(\"Masukkan kunci bentuk hex: \")\n",
        "    if len(key) == 16:\n",
        "        break\n",
        "    else:\n",
        "        print(\"Panjang kunci harus 8 hex!\")\n",
        "print(\"Kunci\t\t\t:\", key)\n",
        "\n",
        "\n",
        "# pt=\"COMPUTER\"\n",
        "# key = \"133457799BBCDFF1\"\n"
      ]
    },
    {
      "cell_type": "markdown",
      "metadata": {
        "id": "Y3FA59GbMW0x"
      },
      "source": [
        "# **2. Mencari Permutasi Awal Plaintext**"
      ]
    },
    {
      "cell_type": "code",
      "execution_count": 2,
      "metadata": {
        "id": "FldEKfMKMW0x"
      },
      "outputs": [],
      "source": [
        "# Dapatkan value ASCII tiap char menggunakan ord()\n",
        "ascii_value = []\n",
        "\n",
        "for i in range(len(pt)):\n",
        "    ascii_value.append(ord(pt[i]))"
      ]
    },
    {
      "cell_type": "code",
      "source": [
        "# Print each character of plaintext and its corresponding ASCII value\n",
        "for i in range(len(pt)):\n",
        "  print(f\"{pt[i]}: {ascii_value[i]}\")"
      ],
      "metadata": {
        "colab": {
          "base_uri": "https://localhost:8080/"
        },
        "id": "A1qBuNSzO7Qk",
        "outputId": "5e4077b1-7efd-4b29-800f-252b9188200a"
      },
      "execution_count": 3,
      "outputs": [
        {
          "output_type": "stream",
          "name": "stdout",
          "text": [
            "C: 67\n",
            "O: 79\n",
            "M: 77\n",
            "P: 80\n",
            "U: 85\n",
            "T: 84\n",
            "E: 69\n",
            "R: 82\n"
          ]
        }
      ]
    },
    {
      "cell_type": "markdown",
      "metadata": {
        "id": "ydXa0Au3MW0y"
      },
      "source": [
        "- **Mengubah Plaintext ke Binner**"
      ]
    },
    {
      "cell_type": "code",
      "execution_count": 4,
      "metadata": {
        "id": "ggEnmvJKMW0y"
      },
      "outputs": [],
      "source": [
        "binary_result = \"\"\n",
        "for char in pt:\n",
        "    binary_char = bin(ord(char))[2:].zfill(8)  # Mengonversi karakter ke bilangan biner 8-bit\n",
        "    binary_result += binary_char\n",
        "pt = binary_result"
      ]
    },
    {
      "cell_type": "code",
      "source": [
        "print(\"PlainText:\")\n",
        "for i in range(0, len(pt), 8):\n",
        "\tprint(pt[i:i + 8], end=\" \")\n",
        "print()\n",
        "print()"
      ],
      "metadata": {
        "colab": {
          "base_uri": "https://localhost:8080/"
        },
        "id": "voFwFXSlPDzx",
        "outputId": "7b8aea6c-d35b-4ef8-b4b7-9d113d305bfe"
      },
      "execution_count": 5,
      "outputs": [
        {
          "output_type": "stream",
          "name": "stdout",
          "text": [
            "PlainText:\n",
            "01000011 01001111 01001101 01010000 01010101 01010100 01000101 01010010 \n",
            "\n"
          ]
        }
      ]
    },
    {
      "cell_type": "markdown",
      "metadata": {
        "id": "EZ4ldkcuMW0y"
      },
      "source": [
        "- **Initial Permutation atau Permutasi Awal**\n",
        "\n",
        "> mengacak plainteks sehingga urutan bit-bit di dalamnya berubah\n",
        "\n"
      ]
    },
    {
      "cell_type": "code",
      "source": [
        "# Table of Position of 64 bits at initial level: Initial Permutation Table\n",
        "initial_perm = [58, 50, 42, 34, 26, 18, 10, 2,\n",
        "\t\t\t\t60, 52, 44, 36, 28, 20, 12, 4,\n",
        "\t\t\t\t62, 54, 46, 38, 30, 22, 14, 6,\n",
        "\t\t\t\t64, 56, 48, 40, 32, 24, 16, 8,\n",
        "\t\t\t\t57, 49, 41, 33, 25, 17, 9, 1,\n",
        "\t\t\t\t59, 51, 43, 35, 27, 19, 11, 3,\n",
        "\t\t\t\t61, 53, 45, 37, 29, 21, 13, 5,\n",
        "\t\t\t\t63, 55, 47, 39, 31, 23, 15, 7]"
      ],
      "metadata": {
        "id": "c8Irp8VENJvH"
      },
      "execution_count": 6,
      "outputs": []
    },
    {
      "cell_type": "code",
      "execution_count": 7,
      "metadata": {
        "id": "e5j5k9-dMW0y"
      },
      "outputs": [],
      "source": [
        "# Initial Permutation\n",
        "initial_permutation = \"\"\n",
        "for i in range(0, 64):\n",
        "\tinitial_permutation = initial_permutation + pt[initial_perm[i] - 1]\n",
        "\n",
        "pt=initial_permutation"
      ]
    },
    {
      "cell_type": "code",
      "source": [
        "print(\"1. Permutasi Awal:\")\n",
        "for i in range (0, len(pt),8):\n",
        "\tprint(pt[i:i+8], end=\" \")\n",
        "print()\n",
        "print()"
      ],
      "metadata": {
        "colab": {
          "base_uri": "https://localhost:8080/"
        },
        "id": "aQk65Fm6PLlv",
        "outputId": "8098c73d-900b-4c96-ef27-0035d521f8fe"
      },
      "execution_count": 8,
      "outputs": [
        {
          "output_type": "stream",
          "name": "stdout",
          "text": [
            "1. Permutasi Awal:\n",
            "11111111 10111000 01110110 01010111 00000000 00000000 00000110 10000011 \n",
            "\n"
          ]
        }
      ]
    },
    {
      "cell_type": "markdown",
      "metadata": {
        "id": "pqyUUIajMW0z"
      },
      "source": [
        "- **Splitting Initial Permutation atau Split HAsil Permutasi Awal**\n",
        "\n",
        "\n",
        "> Pecah hasil IP menjadi bagian kiri sebanyak 32 bit (L0) dan kanan sebanyak 32 bit (R0)\n",
        "\n",
        "\n"
      ]
    },
    {
      "cell_type": "code",
      "execution_count": 9,
      "metadata": {
        "id": "ZmmXKS2aMW0z"
      },
      "outputs": [],
      "source": [
        "# Splitting\n",
        "left = pt[0:32]\n",
        "right = pt[32:64]"
      ]
    },
    {
      "cell_type": "code",
      "source": [
        "print(\"2. Hasil Pemecahan Permutasi Awal\")\n",
        "# Mencetak left dan right dalam bentuk biner dengan jeda setiap 7 bit\n",
        "print(\"Left (L0):\")\n",
        "binary_left_PT= ' '.join(left[i:i+8] for i in range(0, len(left), 8))\n",
        "print(binary_left_PT)\n",
        "\n",
        "print(\"\\nRight (R0):\")\n",
        "binary_right_PT = ' '.join(right[i:i+8] for i in range(0, len(right), 8))\n",
        "print(binary_right_PT)"
      ],
      "metadata": {
        "colab": {
          "base_uri": "https://localhost:8080/"
        },
        "id": "qDNHMr0sPSO7",
        "outputId": "6e5af5e5-dd64-4d72-952b-9883b0c1c031"
      },
      "execution_count": 10,
      "outputs": [
        {
          "output_type": "stream",
          "name": "stdout",
          "text": [
            "2. Hasil Pemecahan Permutasi Awal\n",
            "Left (L0):\n",
            "11111111 10111000 01110110 01010111\n",
            "\n",
            "Right (R0):\n",
            "00000000 00000000 00000110 10000011\n"
          ]
        }
      ]
    },
    {
      "cell_type": "markdown",
      "metadata": {
        "id": "KEAkqdWuMW0z"
      },
      "source": [
        "# **3. Pembangkitan Kunci**"
      ]
    },
    {
      "cell_type": "markdown",
      "metadata": {
        "id": "OPRIBPTGMW0z"
      },
      "source": [
        "- **Key ke Binner**"
      ]
    },
    {
      "cell_type": "code",
      "source": [
        "print(\"Kunci :\", key)"
      ],
      "metadata": {
        "colab": {
          "base_uri": "https://localhost:8080/"
        },
        "id": "_4t5RJQx5dhA",
        "outputId": "a21f63fc-5ed9-4b7f-da27-618592aef48c"
      },
      "execution_count": 11,
      "outputs": [
        {
          "output_type": "stream",
          "name": "stdout",
          "text": [
            "Kunci : 133457799BBCDFF1\n"
          ]
        }
      ]
    },
    {
      "cell_type": "code",
      "execution_count": 12,
      "metadata": {
        "id": "_6DhXhwhMW0z"
      },
      "outputs": [],
      "source": [
        "# Key Hexadecimal to binary conversion\n",
        "mp = {'0': \"0000\",\n",
        "\t'1': \"0001\",\n",
        "\t'2': \"0010\",\n",
        "\t'3': \"0011\",\n",
        "\t'4': \"0100\",\n",
        "\t'5': \"0101\",\n",
        "\t'6': \"0110\",\n",
        "\t'7': \"0111\",\n",
        "\t'8': \"1000\",\n",
        "\t'9': \"1001\",\n",
        "\t'A': \"1010\",\n",
        "\t'B': \"1011\",\n",
        "\t'C': \"1100\",\n",
        "\t'D': \"1101\",\n",
        "\t'E': \"1110\",\n",
        "\t'F': \"1111\"}\n",
        "binary_key_str = \"\"\n",
        "for i in range(len(key)):\n",
        "\tbinary_key_str = binary_key_str + mp[key[i]]\n",
        "key = binary_key_str"
      ]
    },
    {
      "cell_type": "code",
      "source": [
        "# Mencetak key awal dalam bentuk biner (8-bit chunks)\n",
        "print(\"Key Awal (biner):\")\n",
        "binary_key = ' '.join(key[i:i+8] for i in range(0, len(key), 8))\n",
        "print(binary_key)\n",
        "print()"
      ],
      "metadata": {
        "colab": {
          "base_uri": "https://localhost:8080/"
        },
        "id": "ZoROjf5LPW_l",
        "outputId": "e6a1601e-50be-407f-fbd2-cfb8a867954d"
      },
      "execution_count": 13,
      "outputs": [
        {
          "output_type": "stream",
          "name": "stdout",
          "text": [
            "Key Awal (biner):\n",
            "00010011 00110100 01010111 01111001 10011011 10111100 11011111 11110001\n",
            "\n"
          ]
        }
      ]
    },
    {
      "cell_type": "markdown",
      "metadata": {
        "id": "eptPtfJDMW00"
      },
      "source": [
        "- **Key Permutation**"
      ]
    },
    {
      "cell_type": "code",
      "source": [
        "# --parity bit drop table\n",
        "keyp = [57, 49, 41, 33, 25, 17, 9,\n",
        "\t\t1, 58, 50, 42, 34, 26, 18,\n",
        "\t\t10, 2, 59, 51, 43, 35, 27,\n",
        "\t\t19, 11, 3, 60, 52, 44, 36,\n",
        "\t\t63, 55, 47, 39, 31, 23, 15,\n",
        "\t\t7, 62, 54, 46, 38, 30, 22,\n",
        "\t\t14, 6, 61, 53, 45, 37, 29,\n",
        "\t\t21, 13, 5, 28, 20, 12, 4]"
      ],
      "metadata": {
        "id": "b_BVZbdSPeyD"
      },
      "execution_count": 14,
      "outputs": []
    },
    {
      "cell_type": "code",
      "execution_count": 15,
      "metadata": {
        "id": "GDx_BYlXx5qU"
      },
      "outputs": [],
      "source": [
        "# getting 56 bit key from 64 bit using the parity bits\n",
        "key_permutation = \"\"\n",
        "for i in range(0, 56):\n",
        "\tkey_permutation = key_permutation + key[keyp[i] - 1]\n",
        "key = key_permutation"
      ]
    },
    {
      "cell_type": "code",
      "source": [
        "print(\"Permutasi key PC-1:\")\n",
        "binary_key = ' '.join(key[i:i+7] for i in range(0, len(key), 7))\n",
        "print(binary_key)\n",
        "print()\n"
      ],
      "metadata": {
        "colab": {
          "base_uri": "https://localhost:8080/"
        },
        "id": "khrRd75rPbKR",
        "outputId": "1f8e79a7-1a44-4946-a638-64cb87c8db9c"
      },
      "execution_count": 16,
      "outputs": [
        {
          "output_type": "stream",
          "name": "stdout",
          "text": [
            "Permutasi key PC-1:\n",
            "1111000 0110011 0010101 0101111 0101010 1011001 1001111 0001111\n",
            "\n"
          ]
        }
      ]
    },
    {
      "cell_type": "markdown",
      "metadata": {
        "id": "srxEmT7sMW00"
      },
      "source": [
        "- **Splitting Key Permutation (Pemecahan C0 dan D0)**"
      ]
    },
    {
      "cell_type": "code",
      "execution_count": 17,
      "metadata": {
        "id": "JBMWYqRPMW00"
      },
      "outputs": [],
      "source": [
        "# Splitting\n",
        "left = key[0:28] # rkb for RoundKeys in binary\n",
        "right = key[28:56]"
      ]
    },
    {
      "cell_type": "code",
      "source": [
        "print(\"Pemecahan C0 dan D0:\")\n",
        "# Mencetak left dan right dalam bentuk biner dengan jeda setiap 7 bit\n",
        "print(\"Left (C0):\")\n",
        "binary_left = ' '.join(left[i:i+7] for i in range(0, len(left), 7))\n",
        "print(binary_left)\n",
        "\n",
        "print(\"\\nRight (D0):\")\n",
        "binary_right = ' '.join(right[i:i+7] for i in range(0, len(right), 7))\n",
        "print(binary_right)\n"
      ],
      "metadata": {
        "colab": {
          "base_uri": "https://localhost:8080/"
        },
        "id": "PjCKBWUUPkye",
        "outputId": "9db923ff-7c24-4b7c-a480-ab569885b8b1"
      },
      "execution_count": 18,
      "outputs": [
        {
          "output_type": "stream",
          "name": "stdout",
          "text": [
            "Pemecahan C0 dan D0:\n",
            "Left (C0):\n",
            "1111000 0110011 0010101 0101111\n",
            "\n",
            "Right (D0):\n",
            "0101010 1011001 1001111 0001111\n"
          ]
        }
      ]
    },
    {
      "cell_type": "markdown",
      "metadata": {
        "id": "NqB2yy4vMW00"
      },
      "source": [
        "- **Tabel Wrapping & Left Shift**\n",
        "\n",
        "\n",
        "1. Setelah mendapatkan C0 dan D0, sekarang kita membuat 6 blok Cn dan Dn yang setiap blok berasal dari Cn-1 dan Dn-1.\n",
        "2. Selanjutnya, kedua bagian digeser ke kiri (left shift) sepanjang satu atau dua bit bergantung pada tiap putaran.\n",
        "3. Operasi pergeseran bersifat wrapping atau round-shift.\n",
        "\n",
        "\n",
        "\n",
        "| Putaran, i | Jumlah pergeseran bit |\n",
        "| ----------- | :---------: |\n",
        "| 1 | 1 |\n",
        "| 2 | 1 |\n",
        "| 3 | 2 |\n",
        "| 4 | 2 |\n",
        "| 5 | 2 |\n",
        "| 6 | 2 |\n",
        "| 7 | 2 |\n",
        "| 8 | 2 |\n",
        "| 9 | 1 |\n",
        "| 10 | 2 |\n",
        "| 11 | 2 |\n",
        "| 12 | 2 |\n",
        "| 13 | 2 |\n",
        "| 14 | 2 |\n",
        "| 15 | 2 |\n",
        "| 16 | 1 |"
      ]
    },
    {
      "cell_type": "code",
      "source": [
        "# Number of bit shifts\n",
        "shift_table = [1, 1, 2, 2,\n",
        "\t\t\t2, 2, 2, 2,\n",
        "\t\t\t1, 2, 2, 2,\n",
        "\t\t\t2, 2, 2, 1]"
      ],
      "metadata": {
        "id": "RRqxqGfoP29H"
      },
      "execution_count": 19,
      "outputs": []
    },
    {
      "cell_type": "markdown",
      "source": [
        "- **Shift Left untuk potongan sebelah kiri**"
      ],
      "metadata": {
        "id": "BtLMUA_08q2a"
      }
    },
    {
      "cell_type": "code",
      "execution_count": 20,
      "metadata": {
        "id": "IVxagodXMW00",
        "colab": {
          "base_uri": "https://localhost:8080/"
        },
        "outputId": "dca9b3db-5fb1-4550-f520-1271a166b14d"
      },
      "outputs": [
        {
          "output_type": "stream",
          "name": "stdout",
          "text": [
            "Iterasi 1: 1110000110011001010101011111\n",
            "Iterasi 2: 1100001100110010101010111111\n",
            "Iterasi 3: 0000110011001010101011111111\n",
            "Iterasi 4: 0011001100101010101111111100\n",
            "Iterasi 5: 1100110010101010111111110000\n",
            "Iterasi 6: 0011001010101011111111000011\n",
            "Iterasi 7: 1100101010101111111100001100\n",
            "Iterasi 8: 0010101010111111110000110011\n",
            "Iterasi 9: 0101010101111111100001100110\n",
            "Iterasi 10: 0101010111111110000110011001\n",
            "Iterasi 11: 0101011111111000011001100101\n",
            "Iterasi 12: 0101111111100001100110010101\n",
            "Iterasi 13: 0111111110000110011001010101\n",
            "Iterasi 14: 1111111000011001100101010101\n",
            "Iterasi 15: 1111100001100110010101010111\n",
            "Iterasi 16: 1111000011001100101010101111\n"
          ]
        }
      ],
      "source": [
        "# Inisialisasi list untuk menyimpan setiap iterasi wrapping dan left_shift\n",
        "all_L_Lshft = []\n",
        "for i in range(0, 16):\n",
        "\t# Shifting the bits by nth shifts by checking from shift table (Left)\n",
        "\ts = \"\"\n",
        "\tfor i in range(shift_table[i]): #membaca banyaknya pergeseran dari tabel\n",
        "\t\tfor j in range(1, len(left)):\n",
        "\t\t\ts = s + left[j]\n",
        "\t\ts = s + left[0] #dimaksudkan untuk mengabaikan bit pertama (left[0]) karena bit tersebut akan dipindahkan ke posisi terakhir selama pergeseran sirkular ke kiri.\n",
        "\t\tleft = s\n",
        "\t\ts = \"\"\n",
        "\n",
        "\tall_L_Lshft.append(left)\n",
        "\n",
        "\n",
        " # Menampilkan hasil left circular shift pada setiap iterasi\n",
        "for i, shifted_left in enumerate(all_L_Lshft):\n",
        "    print(f\"Iterasi {i + 1}: {shifted_left}\")"
      ]
    },
    {
      "cell_type": "markdown",
      "source": [
        "- **Shift Left untuk potongan sebelah kanan**"
      ],
      "metadata": {
        "id": "xOEeIZmk8xzv"
      }
    },
    {
      "cell_type": "code",
      "source": [
        "all_R_Lshft = []\n",
        "for i in range(0, 16):\n",
        "\t# Shifting the bits by nth shifts by checking from shift table (Right)\n",
        "\ts = \"\"\n",
        "\tfor i in range(shift_table[i]):\n",
        "\t\tfor j in range(1, len(right)):\n",
        "\t\t\ts = s + right[j]\n",
        "\t\ts = s + right[0]\n",
        "\t\tright = s\n",
        "\t\ts = \"\"\n",
        "\n",
        "\tall_R_Lshft.append(right)\n",
        "\n",
        " # Menampilkan hasil left circular shift pada setiap iterasi\n",
        "for i, shifted_right in enumerate(all_R_Lshft):\n",
        "    print(f\"Iterasi {i + 1}: {shifted_right}\")"
      ],
      "metadata": {
        "colab": {
          "base_uri": "https://localhost:8080/"
        },
        "id": "UGyakF2V8aoQ",
        "outputId": "d741b887-54dd-4bbe-fabb-89c8dcc82ff8"
      },
      "execution_count": 21,
      "outputs": [
        {
          "output_type": "stream",
          "name": "stdout",
          "text": [
            "Iterasi 1: 1010101011001100111100011110\n",
            "Iterasi 2: 0101010110011001111000111101\n",
            "Iterasi 3: 0101011001100111100011110101\n",
            "Iterasi 4: 0101100110011110001111010101\n",
            "Iterasi 5: 0110011001111000111101010101\n",
            "Iterasi 6: 1001100111100011110101010101\n",
            "Iterasi 7: 0110011110001111010101010110\n",
            "Iterasi 8: 1001111000111101010101011001\n",
            "Iterasi 9: 0011110001111010101010110011\n",
            "Iterasi 10: 1111000111101010101011001100\n",
            "Iterasi 11: 1100011110101010101100110011\n",
            "Iterasi 12: 0001111010101010110011001111\n",
            "Iterasi 13: 0111101010101011001100111100\n",
            "Iterasi 14: 1110101010101100110011110001\n",
            "Iterasi 15: 1010101010110011001111000111\n",
            "Iterasi 16: 0101010101100110011110001111\n"
          ]
        }
      ]
    },
    {
      "cell_type": "code",
      "source": [
        "print(\"Tabel wrapping dan left shift:\")\n",
        "for i in range(0, 16):\n",
        "\tprint(\"\\nC\",i+1,\":\", all_L_Lshft[i])\n",
        "\tprint(\"D\",i+1,\":\", all_R_Lshft[i])\n"
      ],
      "metadata": {
        "colab": {
          "base_uri": "https://localhost:8080/"
        },
        "id": "VtEiVMzzP7iE",
        "outputId": "bef554fb-4e8c-468e-f1ad-3cf8f2178b8d"
      },
      "execution_count": 22,
      "outputs": [
        {
          "output_type": "stream",
          "name": "stdout",
          "text": [
            "Tabel wrapping dan left shift:\n",
            "\n",
            "C 1 : 1110000110011001010101011111\n",
            "D 1 : 1010101011001100111100011110\n",
            "\n",
            "C 2 : 1100001100110010101010111111\n",
            "D 2 : 0101010110011001111000111101\n",
            "\n",
            "C 3 : 0000110011001010101011111111\n",
            "D 3 : 0101011001100111100011110101\n",
            "\n",
            "C 4 : 0011001100101010101111111100\n",
            "D 4 : 0101100110011110001111010101\n",
            "\n",
            "C 5 : 1100110010101010111111110000\n",
            "D 5 : 0110011001111000111101010101\n",
            "\n",
            "C 6 : 0011001010101011111111000011\n",
            "D 6 : 1001100111100011110101010101\n",
            "\n",
            "C 7 : 1100101010101111111100001100\n",
            "D 7 : 0110011110001111010101010110\n",
            "\n",
            "C 8 : 0010101010111111110000110011\n",
            "D 8 : 1001111000111101010101011001\n",
            "\n",
            "C 9 : 0101010101111111100001100110\n",
            "D 9 : 0011110001111010101010110011\n",
            "\n",
            "C 10 : 0101010111111110000110011001\n",
            "D 10 : 1111000111101010101011001100\n",
            "\n",
            "C 11 : 0101011111111000011001100101\n",
            "D 11 : 1100011110101010101100110011\n",
            "\n",
            "C 12 : 0101111111100001100110010101\n",
            "D 12 : 0001111010101010110011001111\n",
            "\n",
            "C 13 : 0111111110000110011001010101\n",
            "D 13 : 0111101010101011001100111100\n",
            "\n",
            "C 14 : 1111111000011001100101010101\n",
            "D 14 : 1110101010101100110011110001\n",
            "\n",
            "C 15 : 1111100001100110010101010111\n",
            "D 15 : 1010101010110011001111000111\n",
            "\n",
            "C 16 : 1111000011001100101010101111\n",
            "D 16 : 0101010101100110011110001111\n"
          ]
        }
      ]
    },
    {
      "cell_type": "markdown",
      "metadata": {
        "id": "DuTpCT1MMW00"
      },
      "source": [
        "- **Combine C[i] dengan D[i]**"
      ]
    },
    {
      "cell_type": "code",
      "source": [
        "all_combine= []\n",
        "for i in range(0, 16):\n",
        "\t# Combination of left and right string\n",
        "\tcombine_str = all_L_Lshft[i] + all_R_Lshft[i]\n",
        "\tall_combine.append(combine_str)"
      ],
      "metadata": {
        "id": "b6a_WGDt_X5x"
      },
      "execution_count": 23,
      "outputs": []
    },
    {
      "cell_type": "code",
      "execution_count": 24,
      "metadata": {
        "colab": {
          "base_uri": "https://localhost:8080/"
        },
        "id": "-fG2RaRgMW01",
        "outputId": "7328f70c-c6e5-4722-aed6-2bdffa448307"
      },
      "outputs": [
        {
          "output_type": "stream",
          "name": "stdout",
          "text": [
            "C 1 ,D 1 : 11110000 11001100 10101010 11110101 01010110 01100111 10001111\n",
            "C 2 ,D 2 : 11110000 11001100 10101010 11110101 01010110 01100111 10001111\n",
            "C 3 ,D 3 : 11110000 11001100 10101010 11110101 01010110 01100111 10001111\n",
            "C 4 ,D 4 : 11110000 11001100 10101010 11110101 01010110 01100111 10001111\n",
            "C 5 ,D 5 : 11110000 11001100 10101010 11110101 01010110 01100111 10001111\n",
            "C 6 ,D 6 : 11110000 11001100 10101010 11110101 01010110 01100111 10001111\n",
            "C 7 ,D 7 : 11110000 11001100 10101010 11110101 01010110 01100111 10001111\n",
            "C 8 ,D 8 : 11110000 11001100 10101010 11110101 01010110 01100111 10001111\n",
            "C 9 ,D 9 : 11110000 11001100 10101010 11110101 01010110 01100111 10001111\n",
            "C 10 ,D 10 : 11110000 11001100 10101010 11110101 01010110 01100111 10001111\n",
            "C 11 ,D 11 : 11110000 11001100 10101010 11110101 01010110 01100111 10001111\n",
            "C 12 ,D 12 : 11110000 11001100 10101010 11110101 01010110 01100111 10001111\n",
            "C 13 ,D 13 : 11110000 11001100 10101010 11110101 01010110 01100111 10001111\n",
            "C 14 ,D 14 : 11110000 11001100 10101010 11110101 01010110 01100111 10001111\n",
            "C 15 ,D 15 : 11110000 11001100 10101010 11110101 01010110 01100111 10001111\n",
            "C 16 ,D 16 : 11110000 11001100 10101010 11110101 01010110 01100111 10001111\n"
          ]
        }
      ],
      "source": [
        "for i in range(0, 16):\n",
        "\tkombinasi_key_with_spacing = ' '.join(combine_str[i:i+8] for i in range(0, len(combine_str), 8))\n",
        "\tprint(\"C\",i+1,\",D\",i+1,\":\", kombinasi_key_with_spacing)"
      ]
    },
    {
      "cell_type": "markdown",
      "metadata": {
        "id": "wCjnK69kMW01"
      },
      "source": [
        "- **Permutasi PC-2 (Permutasi hasil C[i] & D[i])**"
      ]
    },
    {
      "cell_type": "code",
      "source": [
        "# Key- Compression Table : Compression of key from 56 bits to 48 bits\n",
        "key_comp = [14, 17, 11, 24, 1, 5,\n",
        "\t\t\t3, 28, 15, 6, 21, 10,\n",
        "\t\t\t23, 19, 12, 4, 26, 8,\n",
        "\t\t\t16, 7, 27, 20, 13, 2,\n",
        "\t\t\t41, 52, 31, 37, 47, 55,\n",
        "\t\t\t30, 40, 51, 45, 33, 48,\n",
        "\t\t\t44, 49, 39, 56, 34, 53,\n",
        "\t\t\t46, 42, 50, 36, 29, 32]"
      ],
      "metadata": {
        "id": "GhbvqXtNQYFK"
      },
      "execution_count": 25,
      "outputs": []
    },
    {
      "cell_type": "code",
      "execution_count": 26,
      "metadata": {
        "id": "Xy4lNXWuMW01"
      },
      "outputs": [],
      "source": [
        "rkb = []\n",
        "for i in range(0, 16):\n",
        "\t# Compression of key from 56 to 48 bits\n",
        "\tcombine_str=all_combine[i]\n",
        "\n",
        "\tround_key_permutation = \"\"\n",
        "\tfor i in range(0, 48):\n",
        "\t\tround_key_permutation = round_key_permutation + combine_str[key_comp[i] - 1]\n",
        "\n",
        "\trkb.append(round_key_permutation)"
      ]
    },
    {
      "cell_type": "code",
      "source": [
        "# Mencetak kunci dalam bentuk biner dengan jeda setiap 6 bit\n",
        "print(\"\\nPermutasi key PC-2 dengan left shift:\")\n",
        "for i in range(16):\n",
        "    binary_key = rkb[i]\n",
        "    binary_key_with_spacing = ' '.join(binary_key[i:i+6] for i in range(0, len(binary_key), 6))\n",
        "    print(\"K {:2d}: {}\".format(i + 1, binary_key_with_spacing))"
      ],
      "metadata": {
        "colab": {
          "base_uri": "https://localhost:8080/"
        },
        "id": "uHlqlJ1pQa-9",
        "outputId": "7a5e5ff0-6227-4e08-e26f-a716267f25ef"
      },
      "execution_count": 27,
      "outputs": [
        {
          "output_type": "stream",
          "name": "stdout",
          "text": [
            "\n",
            "Permutasi key PC-2 dengan left shift:\n",
            "K  1: 000110 110000 001011 101111 111111 000111 000001 110010\n",
            "K  2: 011110 011010 111011 011001 110110 111100 100111 100101\n",
            "K  3: 010101 011111 110010 001010 010000 101100 111110 011001\n",
            "K  4: 011100 101010 110111 010110 110110 110011 010100 011101\n",
            "K  5: 011111 001110 110000 000111 111010 110101 001110 101000\n",
            "K  6: 011000 111010 010100 111110 010100 000111 101100 101111\n",
            "K  7: 111011 001000 010010 110111 111101 100001 100010 111100\n",
            "K  8: 111101 111000 101000 111010 110000 010011 101111 111011\n",
            "K  9: 111000 001101 101111 101011 111011 011110 011110 000001\n",
            "K 10: 101100 011111 001101 000111 101110 100100 011001 001111\n",
            "K 11: 001000 010101 111111 010011 110111 101101 001110 000110\n",
            "K 12: 011101 010111 000111 110101 100101 000110 011111 101001\n",
            "K 13: 100101 111100 010111 010001 111110 101011 101001 000001\n",
            "K 14: 010111 110100 001110 110111 111100 101110 011100 111010\n",
            "K 15: 101111 111001 000110 001101 001111 010011 111100 001010\n",
            "K 16: 110010 110011 110110 001011 000011 100001 011111 110101\n"
          ]
        }
      ]
    },
    {
      "cell_type": "markdown",
      "metadata": {
        "id": "_C1_WRkgMW01"
      },
      "source": [
        "# **4. Proses Enchipering**\n",
        "\n",
        "> Dalam proses enchipering, setiap blok plainteks mengalami 16 kali putaran.\n",
        "Setiap putaran enciphering merupakan jaringan Feistel:\n",
        "\n",
        "\n"
      ]
    },
    {
      "cell_type": "code",
      "execution_count": 28,
      "metadata": {
        "colab": {
          "base_uri": "https://localhost:8080/"
        },
        "id": "eQsfS36FMW01",
        "outputId": "7e889eed-f12a-4bfc-b1e1-f8e67bbc15a6"
      },
      "outputs": [
        {
          "output_type": "stream",
          "name": "stdout",
          "text": [
            "Hasil sementara dari proses sebelumnya sudah dilakukan proses permutasi awal terhadap plaintext yang mendapatkan nilai\n",
            "Left (L0):\n",
            "11111111 10111000 01110110 01010111\n",
            "\n",
            "Right (R0):\n",
            "00000000 00000000 00000110 10000011\n"
          ]
        }
      ],
      "source": [
        "# Splitting\n",
        "left = pt[0:32]\n",
        "right = pt[32:64]\n",
        "print(\"Hasil sementara dari proses sebelumnya sudah dilakukan proses permutasi awal terhadap plaintext yang mendapatkan nilai\")\n",
        "# Mencetak left dan right dalam bentuk biner dengan jeda setiap 7 bit\n",
        "print(\"Left (L0):\")\n",
        "binary_left_PT= ' '.join(left[i:i+8] for i in range(0, len(left), 8))\n",
        "print(binary_left_PT)\n",
        "\n",
        "print(\"\\nRight (R0):\")\n",
        "binary_right_PT = ' '.join(right[i:i+8] for i in range(0, len(right), 8))\n",
        "print(binary_right_PT)"
      ]
    },
    {
      "cell_type": "markdown",
      "metadata": {
        "id": "wmyOntzvMW01"
      },
      "source": [
        "- **Ekspansi RO**"
      ]
    },
    {
      "cell_type": "code",
      "source": [
        "# Tabel ekspansi R\n",
        "exp_d = [32, 1, 2, 3, 4, 5, 4, 5,\n",
        "\t\t6, 7, 8, 9, 8, 9, 10, 11,\n",
        "\t\t12, 13, 12, 13, 14, 15, 16, 17,\n",
        "\t\t16, 17, 18, 19, 20, 21, 20, 21,\n",
        "\t\t22, 23, 24, 25, 24, 25, 26, 27,\n",
        "\t\t28, 29, 28, 29, 30, 31, 32, 1]"
      ],
      "metadata": {
        "id": "e9JwSk-LQ3aF"
      },
      "execution_count": 29,
      "outputs": []
    },
    {
      "cell_type": "code",
      "execution_count": 30,
      "metadata": {
        "id": "kSGbVY5WMW01"
      },
      "outputs": [],
      "source": [
        "# Expansion R D-box: Expanding the 32 bits data into 48 bits\n",
        "right_expanded = ''.join(right[i - 1] for i in exp_d) #untuk menggabungkan nilai R0 dengan table ekspansi"
      ]
    },
    {
      "cell_type": "code",
      "source": [
        "print(\"Hasil Ekpansi dari R0\")\n",
        "right_expanded_with_spacing = ' '.join(right_expanded[i:i + 6] for i in range(0, len(right_expanded), 6))\n",
        "print(\"E(R 0)   :\",right_expanded_with_spacing)"
      ],
      "metadata": {
        "colab": {
          "base_uri": "https://localhost:8080/"
        },
        "id": "_yUu8FriAO4V",
        "outputId": "6ba284e7-b364-4685-9343-c65c252a53fb"
      },
      "execution_count": 31,
      "outputs": [
        {
          "output_type": "stream",
          "name": "stdout",
          "text": [
            "Hasil Ekpansi dari R0\n",
            "E(R 0)   : 100000 000000 000000 000000 000000 001101 010000 000110\n"
          ]
        }
      ]
    },
    {
      "cell_type": "markdown",
      "metadata": {
        "id": "PuROsBwtMW02"
      },
      "source": [
        "- **Fungsi XOR dari ekspansi R0 dan Key 1 untuk menghasilkan A1**"
      ]
    },
    {
      "cell_type": "code",
      "execution_count": 32,
      "metadata": {
        "colab": {
          "base_uri": "https://localhost:8080/"
        },
        "id": "rtqwmTikMW02",
        "outputId": "4c232192-48ef-4038-eb90-5a9015e8dbef"
      },
      "outputs": [
        {
          "output_type": "stream",
          "name": "stdout",
          "text": [
            "E(R0)     : 100000 000000 000000 000000 000000 001101 010000 000110\n",
            "K 1       : 000110 110000 001011 101111 111111 000111 000001 110010\n",
            "____________________________________________________________________XOR\n",
            "A1        : 100110 110000 001011 101111 111111 001010 010001 110100\n"
          ]
        }
      ],
      "source": [
        "print(\"E(R0)     :\",right_expanded_with_spacing)\n",
        "binary_key = rkb[0]\n",
        "binary_key_with_spacing = ' '.join(binary_key[i:i+6] for i in range(0, len(binary_key), 6))\n",
        "print(\"K{:2d}       : {}\".format(1, binary_key_with_spacing))\n",
        "print(\"____________________________________________________________________XOR\")\n",
        "\n",
        "xor_x = \"\"\n",
        "for i in range(len(right_expanded)):\n",
        "\tif right_expanded[i] ==  rkb[0][i]:\n",
        "\t\txor_x = xor_x + \"0\"\n",
        "\telse:\n",
        "\t\txor_x = xor_x + \"1\"\n",
        "\n",
        "# Output hasil expansion\n",
        "xor_with_spacing = ' '.join(xor_x[i:i + 6] for i in range(0, len(xor_x), 6))\n",
        "print(\"A1        :\",xor_with_spacing)"
      ]
    },
    {
      "cell_type": "markdown",
      "metadata": {
        "id": "nhBXW2FmMW02"
      },
      "source": [
        "- **Persiapan subtitusi A1 ke 8 S-Box**"
      ]
    },
    {
      "cell_type": "code",
      "execution_count": 33,
      "metadata": {
        "id": "6YIlkNfbMW02"
      },
      "outputs": [],
      "source": [
        "# S-box Table\n",
        "sbox = [[[14, 4, 13, 1, 2, 15, 11, 8, 3, 10, 6, 12, 5, 9, 0, 7],\n",
        "\t\t[0, 15, 7, 4, 14, 2, 13, 1, 10, 6, 12, 11, 9, 5, 3, 8],\n",
        "\t\t[4, 1, 14, 8, 13, 6, 2, 11, 15, 12, 9, 7, 3, 10, 5, 0],\n",
        "\t\t[15, 12, 8, 2, 4, 9, 1, 7, 5, 11, 3, 14, 10, 0, 6, 13]],\n",
        "\n",
        "\t\t[[15, 1, 8, 14, 6, 11, 3, 4, 9, 7, 2, 13, 12, 0, 5, 10],\n",
        "\t\t[3, 13, 4, 7, 15, 2, 8, 14, 12, 0, 1, 10, 6, 9, 11, 5],\n",
        "\t\t[0, 14, 7, 11, 10, 4, 13, 1, 5, 8, 12, 6, 9, 3, 2, 15],\n",
        "\t\t[13, 8, 10, 1, 3, 15, 4, 2, 11, 6, 7, 12, 0, 5, 14, 9]],\n",
        "\n",
        "\t\t[[10, 0, 9, 14, 6, 3, 15, 5, 1, 13, 12, 7, 11, 4, 2, 8],\n",
        "\t\t[13, 7, 0, 9, 3, 4, 6, 10, 2, 8, 5, 14, 12, 11, 15, 1],\n",
        "\t\t[13, 6, 4, 9, 8, 15, 3, 0, 11, 1, 2, 12, 5, 10, 14, 7],\n",
        "\t\t[1, 10, 13, 0, 6, 9, 8, 7, 4, 15, 14, 3, 11, 5, 2, 12]],\n",
        "\n",
        "\t\t[[7, 13, 14, 3, 0, 6, 9, 10, 1, 2, 8, 5, 11, 12, 4, 15],\n",
        "\t\t[13, 8, 11, 5, 6, 15, 0, 3, 4, 7, 2, 12, 1, 10, 14, 9],\n",
        "\t\t[10, 6, 9, 0, 12, 11, 7, 13, 15, 1, 3, 14, 5, 2, 8, 4],\n",
        "\t\t[3, 15, 0, 6, 10, 1, 13, 8, 9, 4, 5, 11, 12, 7, 2, 14]],\n",
        "\n",
        "\t\t[[2, 12, 4, 1, 7, 10, 11, 6, 8, 5, 3, 15, 13, 0, 14, 9],\n",
        "\t\t[14, 11, 2, 12, 4, 7, 13, 1, 5, 0, 15, 10, 3, 9, 8, 6],\n",
        "\t\t[4, 2, 1, 11, 10, 13, 7, 8, 15, 9, 12, 5, 6, 3, 0, 14],\n",
        "\t\t[11, 8, 12, 7, 1, 14, 2, 13, 6, 15, 0, 9, 10, 4, 5, 3]],\n",
        "\n",
        "\t\t[[12, 1, 10, 15, 9, 2, 6, 8, 0, 13, 3, 4, 14, 7, 5, 11],\n",
        "\t\t[10, 15, 4, 2, 7, 12, 9, 5, 6, 1, 13, 14, 0, 11, 3, 8],\n",
        "\t\t[9, 14, 15, 5, 2, 8, 12, 3, 7, 0, 4, 10, 1, 13, 11, 6],\n",
        "\t\t[4, 3, 2, 12, 9, 5, 15, 10, 11, 14, 1, 7, 6, 0, 8, 13]],\n",
        "\n",
        "\t\t[[4, 11, 2, 14, 15, 0, 8, 13, 3, 12, 9, 7, 5, 10, 6, 1],\n",
        "\t\t[13, 0, 11, 7, 4, 9, 1, 10, 14, 3, 5, 12, 2, 15, 8, 6],\n",
        "\t\t[1, 4, 11, 13, 12, 3, 7, 14, 10, 15, 6, 8, 0, 5, 9, 2],\n",
        "\t\t[6, 11, 13, 8, 1, 4, 10, 7, 9, 5, 0, 15, 14, 2, 3, 12]],\n",
        "\n",
        "\t\t[[13, 2, 8, 4, 6, 15, 11, 1, 10, 9, 3, 14, 5, 0, 12, 7],\n",
        "\t\t[1, 15, 13, 8, 10, 3, 7, 4, 12, 5, 6, 11, 0, 14, 9, 2],\n",
        "\t\t[7, 11, 4, 1, 9, 12, 14, 2, 0, 6, 10, 13, 15, 3, 5, 8],\n",
        "\t\t[2, 1, 14, 7, 4, 10, 8, 13, 15, 12, 9, 0, 3, 5, 6, 11]]]"
      ]
    },
    {
      "cell_type": "markdown",
      "source": [
        "Fungsi untuk mengkonversi ke decimal ke s-box yang ada di atas"
      ],
      "metadata": {
        "id": "YZDNJxf7SBci"
      }
    },
    {
      "cell_type": "code",
      "execution_count": 34,
      "metadata": {
        "id": "VgrERIAUxeCT"
      },
      "outputs": [],
      "source": [
        "# Binary to decimal conversion\n",
        "def bin2dec(binary):\n",
        "\n",
        "\tbinary1 = binary\n",
        "\tdecimal, i, n = 0, 0, 0\n",
        "\twhile(binary != 0):\n",
        "\t\tdec = binary % 10\n",
        "\t\tdecimal = decimal + dec * pow(2, i)\n",
        "\t\tbinary = binary//10\n",
        "\t\ti += 1\n",
        "\treturn decimal\n",
        "\n",
        "# Decimal to binary conversion\n",
        "def dec2bin(num):\n",
        "\tres = bin(num).replace(\"0b\", \"\")\n",
        "\tif(len(res) % 4 != 0):\n",
        "\t\tdiv = len(res) / 4\n",
        "\t\tdiv = int(div)\n",
        "\t\tcounter = (4 * (div + 1)) - len(res)\n",
        "\t\tfor i in range(0, counter):\n",
        "\t\t\tres = '0' + res\n",
        "\treturn res"
      ]
    },
    {
      "cell_type": "code",
      "execution_count": 35,
      "metadata": {
        "colab": {
          "base_uri": "https://localhost:8080/"
        },
        "id": "xGWjms8LMW02",
        "outputId": "d52b8c59-9a45-421e-fb31-c70e8b2ac8f4"
      },
      "outputs": [
        {
          "output_type": "stream",
          "name": "stdout",
          "text": [
            "['100110', '110000', '001011', '101111', '111111', '001010', '010001', '110100']\n"
          ]
        }
      ],
      "source": [
        "subgroups = [xor_x[i:i + 6] for i in range(0, len(xor_x), 6)] #melihat variable subgrup yaang membagi vektor a1 menjadi 6 karakter\n",
        "print(subgroups)"
      ]
    },
    {
      "cell_type": "markdown",
      "source": [
        "**Kita pisahkan blok menjadi 2 yaitu:**\n",
        "\n",
        "*   **Bit pertama dan terakhir** sebagai baris\n",
        "*   **Bit kedua hingga ke lima** sebagai kolom\n",
        "\n",
        "\n",
        "\n"
      ],
      "metadata": {
        "id": "TVCK5zU8S_1n"
      }
    },
    {
      "cell_type": "code",
      "execution_count": 36,
      "metadata": {
        "id": "75zWJ3IPMW02"
      },
      "outputs": [],
      "source": [
        "sbox_str = \"\"\n",
        "for j in range(0, 8):\n",
        "    row = bin2dec(int(xor_x[j * 6] + xor_x[j * 6 + 5]))\n",
        "    col = bin2dec(int(xor_x[j * 6 + 1] + xor_x[j * 6 + 2] + xor_x[j * 6 + 3] + xor_x[j * 6 + 4]))\n",
        "    val = sbox[j][row][col]\n",
        "    sbox_str = sbox_str + dec2bin(val)"
      ]
    },
    {
      "cell_type": "code",
      "source": [
        "# Output hasil substitusi S-box\n",
        "sbox_with_spacing = ' '.join(sbox_str[i:i + 4] for i in range(0, len(sbox_str), 4))\n",
        "print(\"S-box substitution B 1:\", sbox_with_spacing)"
      ],
      "metadata": {
        "colab": {
          "base_uri": "https://localhost:8080/"
        },
        "id": "vtf7MoGQSR7g",
        "outputId": "d0cb2583-31e6-42db-d0ff-10b01ba02cca"
      },
      "execution_count": 37,
      "outputs": [
        {
          "output_type": "stream",
          "name": "stdout",
          "text": [
            "S-box substitution B 1: 1000 0101 0100 1000 0011 0010 1110 1010\n"
          ]
        }
      ]
    },
    {
      "cell_type": "markdown",
      "source": [
        "- **Melakukan permutasi terhadap B1**"
      ],
      "metadata": {
        "id": "pbKAnPX6SXhD"
      }
    },
    {
      "cell_type": "code",
      "execution_count": 38,
      "metadata": {
        "id": "cdk6U-hxMW02"
      },
      "outputs": [],
      "source": [
        "# Straight Permutation Table (P-BOX) dari S-BOX\n",
        "per = [16, 7, 20, 21,\n",
        "\t29, 12, 28, 17,\n",
        "\t1, 15, 23, 26,\n",
        "\t5, 18, 31, 10,\n",
        "\t2, 8, 24, 14,\n",
        "\t32, 27, 3, 9,\n",
        "\t19, 13, 30, 6,\n",
        "\t22, 11, 4, 25]"
      ]
    },
    {
      "cell_type": "code",
      "execution_count": 39,
      "metadata": {
        "id": "44qEZzTzMW02"
      },
      "outputs": [],
      "source": [
        "sbox_str_hsl = \"\"\n",
        "for k in range(0, 32):\n",
        "    sbox_str_hsl = sbox_str_hsl + sbox_str[per[k] - 1]"
      ]
    },
    {
      "cell_type": "code",
      "source": [
        "# Output hasil permutasi substitusi S-box\n",
        "sbox_with_spacing = ' '.join(sbox_str_hsl[i:i + 8] for i in range(0, len(sbox_str_hsl), 8))\n",
        "print(\"P(B1) :\", sbox_with_spacing)"
      ],
      "metadata": {
        "colab": {
          "base_uri": "https://localhost:8080/"
        },
        "id": "0i5YGq54Sirw",
        "outputId": "a46115b8-369f-49b6-b0f7-a01ce7cb4a36"
      },
      "execution_count": 40,
      "outputs": [
        {
          "output_type": "stream",
          "name": "stdout",
          "text": [
            "P(B1) : 00101000 10110011 01000100 11010001\n"
          ]
        }
      ]
    },
    {
      "cell_type": "markdown",
      "source": [
        "- **Proses mendapatkan L1 Dan R1**\n",
        "\n",
        "\n",
        "> Kita sudah mendapatkan nilai R1 sedangkan untuk nilai L1 sudah kita dapatkan dengan mengambil nilai R0.\n",
        "\n"
      ],
      "metadata": {
        "id": "vs6mhQXGSmWj"
      }
    },
    {
      "cell_type": "code",
      "execution_count": 41,
      "metadata": {
        "colab": {
          "base_uri": "https://localhost:8080/"
        },
        "id": "5MNJLod4MW03",
        "outputId": "229d31ac-18c1-40e2-cffa-5d2ccf5921c3"
      },
      "outputs": [
        {
          "output_type": "stream",
          "name": "stdout",
          "text": [
            "P(B1) : 00101000 10110011 01000100 11010001\n",
            "L(1)-1: 11111111 10111000 01110110 01010111\n",
            "________________________________________________________________ XOR\n",
            "R    1: 11010111 00001011 00110010 10000110\n"
          ]
        }
      ],
      "source": [
        "# Output hasil permutasi substitusi S-box\n",
        "sbox_with_spacing = ' '.join(sbox_str_hsl[i:i + 8] for i in range(0, len(sbox_str_hsl), 8))\n",
        "print(\"P(B1) :\", sbox_with_spacing)\n",
        "\n",
        "left_with_spacing = ' '.join(left[i:i + 8] for i in range(0, len(left), 8))\n",
        "print(\"L(1)-1:\",left_with_spacing)\n",
        "print(\"________________________________________________________________ XOR\")\n",
        "\n",
        "# XOR left and sbox_str\n",
        "result = \"\"\n",
        "for j in range(len(left)):\n",
        "    if left[j] ==  sbox_str_hsl[j]:\n",
        "        result = result + \"0\"\n",
        "    else:\n",
        "        result = result + \"1\"\n",
        "\n",
        "\n",
        "result_R_with_spacing = ' '.join(result[i:i + 8] for i in range(0, len(result), 8))\n",
        "print(\"R    1:\",result_R_with_spacing)\n",
        "\n",
        "left = result"
      ]
    },
    {
      "cell_type": "markdown",
      "source": [
        "- **Penukaran seperti untuk nilai L1 sudah kita dapatkan dengan mengambil nilai R0 dan seterusnya**\n",
        "\n",
        "\n",
        "\n",
        ">  Nilai right ke left dan sebaliknya. Dengan kata lain, ini menukar nilai left dan right.\n",
        "\n"
      ],
      "metadata": {
        "id": "5DszlqbFC8Xn"
      }
    },
    {
      "cell_type": "code",
      "source": [
        "# Swapper\n",
        "if(i != 15):\n",
        "\tleft, right = right, left"
      ],
      "metadata": {
        "id": "UACtihTaCmh1"
      },
      "execution_count": 42,
      "outputs": []
    },
    {
      "cell_type": "markdown",
      "source": [
        "**Proses enciphering mulai dari 2 sampai iterasi ke 16**"
      ],
      "metadata": {
        "id": "KzAMWT3iTS27"
      }
    },
    {
      "cell_type": "code",
      "execution_count": 43,
      "metadata": {
        "colab": {
          "base_uri": "https://localhost:8080/"
        },
        "id": "JkTNNOrAMW03",
        "outputId": "99ea6b44-b269-4fb9-9ad2-d98d24b06f51"
      },
      "outputs": [
        {
          "output_type": "stream",
          "name": "stdout",
          "text": [
            "\n",
            "3. Proses Enchipering dengan kondisi sudah membangkitkan kunci enkripsi\n",
            "\n",
            ">>>>>>>>>>>>>>>>>>>>>>>>>>>>>>>> enchipering ke- 2 <<<<<<<<<<<<<<<<<<<<<<<<<<<<<<\n",
            "\n",
            "1. Fungsi XOR untuk hasil A 2\n",
            "E(R 1 ): 011010 101110 100001 010110 100110 100101 010000 001101\n",
            "K 2    : 011110 011010 111011 011001 110110 111100 100111 100101\n",
            "________________________________________________________________XOR\n",
            "A 2    : 000100 110100 011010 001111 010000 011001 110111 101000\n",
            "\n",
            "2. Persiapan subtitusi S-Box unutk A 2\n",
            "S-box substitution B 2 : 1101 1100 0100 0011 1000 0000 1111 1001\n",
            "\n",
            "3. Permutasi hasil subtitusi S-Box B 2 dan Mendapatkan L1 dan R1\n",
            "P(B 2 ) : 10001011 11011001 10001100 00010011\n",
            "L( 2 )-1: 00000000 00000000 00000110 10000011\n",
            "________________________________________________________________ XOR\n",
            "R     2 : 10001011 11011001 10001010 10010000\n",
            "\n",
            ">>>>>>>>>>>>>>>>>>>>>>>>>>>>>>>> enchipering ke- 3 <<<<<<<<<<<<<<<<<<<<<<<<<<<<<<\n",
            "\n",
            "1. Fungsi XOR untuk hasil A 3\n",
            "E(R 2 ): 010001 010111 111011 110011 110001 010101 010010 100001\n",
            "K 3    : 010101 011111 110010 001010 010000 101100 111110 011001\n",
            "________________________________________________________________XOR\n",
            "A 3    : 000100 001000 001001 111001 100001 111001 101100 111000\n",
            "\n",
            "2. Persiapan subtitusi S-Box unutk A 3\n",
            "S-box substitution B 3 : 1101 0110 0011 1100 1011 0110 0111 1111\n",
            "\n",
            "3. Permutasi hasil subtitusi S-Box B 3 dan Mendapatkan L1 dan R1\n",
            "P(B 3 ) : 01101111 10110010 10011100 11111110\n",
            "L( 3 )-1: 11010111 00001011 00110010 10000110\n",
            "________________________________________________________________ XOR\n",
            "R     3 : 10111000 10111001 10101110 01111000\n",
            "\n",
            ">>>>>>>>>>>>>>>>>>>>>>>>>>>>>>>> enchipering ke- 4 <<<<<<<<<<<<<<<<<<<<<<<<<<<<<<\n",
            "\n",
            "1. Fungsi XOR untuk hasil A 4\n",
            "E(R 3 ): 010111 110001 010111 110011 110101 011100 001111 110001\n",
            "K 4    : 011100 101010 110111 010110 110110 110011 010100 011101\n",
            "________________________________________________________________XOR\n",
            "A 4    : 001011 011011 100000 100101 000011 101111 011011 101100\n",
            "\n",
            "2. Persiapan subtitusi S-Box unutk A 4\n",
            "S-box substitution B 4 : 0010 1001 1101 0000 1011 1010 1111 1110\n",
            "\n",
            "3. Permutasi hasil subtitusi S-Box B 4 dan Mendapatkan L1 dan R1\n",
            "P(B 4 ) : 00111111 00111011 01000111 10100001\n",
            "L( 4 )-1: 10001011 11011001 10001010 10010000\n",
            "________________________________________________________________ XOR\n",
            "R     4 : 10110100 11100010 11001101 00110001\n",
            "\n",
            ">>>>>>>>>>>>>>>>>>>>>>>>>>>>>>>> enchipering ke- 5 <<<<<<<<<<<<<<<<<<<<<<<<<<<<<<\n",
            "\n",
            "1. Fungsi XOR untuk hasil A 5\n",
            "E(R 4 ): 110110 101001 011100 000101 011001 011010 100110 100011\n",
            "K 5    : 011111 001110 110000 000111 111010 110101 001110 101000\n",
            "________________________________________________________________XOR\n",
            "A 5    : 101001 100111 101100 000010 100011 101111 101000 001011\n",
            "\n",
            "2. Persiapan subtitusi S-Box unutk A 5\n",
            "S-box substitution B 5 : 0100 0001 0011 1101 1000 1010 1100 0011\n",
            "\n",
            "3. Permutasi hasil subtitusi S-Box B 5 dan Mendapatkan L1 dan R1\n",
            "P(B 5 ) : 10010101 00110010 11011000 01000101\n",
            "L( 5 )-1: 10111000 10111001 10101110 01111000\n",
            "________________________________________________________________ XOR\n",
            "R     5 : 00101101 10001011 01110110 00111101\n",
            "\n",
            ">>>>>>>>>>>>>>>>>>>>>>>>>>>>>>>> enchipering ke- 6 <<<<<<<<<<<<<<<<<<<<<<<<<<<<<<\n",
            "\n",
            "1. Fungsi XOR untuk hasil A 6\n",
            "E(R 5 ): 100101 011011 110001 010110 101110 101100 000111 111010\n",
            "K 6    : 011000 111010 010100 111110 010100 000111 101100 101111\n",
            "________________________________________________________________XOR\n",
            "A 6    : 111101 100001 100101 101000 111010 101011 101011 010101\n",
            "\n",
            "2. Persiapan subtitusi S-Box unutk A 6\n",
            "S-box substitution B 6 : 0110 1101 1101 1100 0011 0101 0100 0110\n",
            "\n",
            "3. Permutasi hasil subtitusi S-Box B 6 dan Mendapatkan L1 dan R1\n",
            "P(B 6 ) : 00100100 00011011 11110011 11111000\n",
            "L( 6 )-1: 10110100 11100010 11001101 00110001\n",
            "________________________________________________________________ XOR\n",
            "R     6 : 10010000 11111001 00111110 11001001\n",
            "\n",
            ">>>>>>>>>>>>>>>>>>>>>>>>>>>>>>>> enchipering ke- 7 <<<<<<<<<<<<<<<<<<<<<<<<<<<<<<\n",
            "\n",
            "1. Fungsi XOR untuk hasil A 7\n",
            "E(R 6 ): 110010 100001 011111 110010 100111 111101 011001 010011\n",
            "K 7    : 111011 001000 010010 110111 111101 100001 100010 111100\n",
            "________________________________________________________________XOR\n",
            "A 7    : 001001 101001 001101 000101 011010 011100 111011 101111\n",
            "\n",
            "2. Persiapan subtitusi S-Box unutk A 7\n",
            "S-box substitution B 7 : 1110 0011 0110 1011 0000 0101 0010 1101\n",
            "\n",
            "3. Permutasi hasil subtitusi S-Box B 7 dan Mendapatkan L1 dan R1\n",
            "P(B 7 ) : 11001000 11000001 11101110 01101100\n",
            "L( 7 )-1: 00101101 10001011 01110110 00111101\n",
            "________________________________________________________________ XOR\n",
            "R     7 : 11100101 01001010 10011000 01010001\n",
            "\n",
            ">>>>>>>>>>>>>>>>>>>>>>>>>>>>>>>> enchipering ke- 8 <<<<<<<<<<<<<<<<<<<<<<<<<<<<<<\n",
            "\n",
            "1. Fungsi XOR untuk hasil A 8\n",
            "E(R 7 ): 111100 001010 101001 010101 010011 110000 001010 100011\n",
            "K 8    : 111101 111000 101000 111010 110000 010011 101111 111011\n",
            "________________________________________________________________XOR\n",
            "A 8    : 000001 110010 000001 101111 100011 100011 100101 011000\n",
            "\n",
            "2. Persiapan subtitusi S-Box unutk A 8\n",
            "S-box substitution B 8 : 0000 1000 1101 1000 1000 0011 1101 0101\n",
            "\n",
            "3. Permutasi hasil subtitusi S-Box B 8 dan Mendapatkan L1 dan R1\n",
            "P(B 8 ) : 00000111 00111001 00101001 01100001\n",
            "L( 8 )-1: 10010000 11111001 00111110 11001001\n",
            "________________________________________________________________ XOR\n",
            "R     8 : 10010111 11000000 00010111 10101000\n",
            "\n",
            ">>>>>>>>>>>>>>>>>>>>>>>>>>>>>>>> enchipering ke- 9 <<<<<<<<<<<<<<<<<<<<<<<<<<<<<<\n",
            "\n",
            "1. Fungsi XOR untuk hasil A 9\n",
            "E(R 8 ): 010010 101111 111000 000000 000010 101111 110101 010001\n",
            "K 9    : 111000 001101 101111 101011 111011 011110 011110 000001\n",
            "________________________________________________________________XOR\n",
            "A 9    : 101010 100010 010111 101011 111001 110001 101011 010000\n",
            "\n",
            "2. Persiapan subtitusi S-Box unutk A 9\n",
            "S-box substitution B 9 : 0110 1110 1110 0001 1010 1011 0100 1010\n",
            "\n",
            "3. Permutasi hasil subtitusi S-Box B 9 dan Mendapatkan L1 dan R1\n",
            "P(B 9 ) : 11011001 00111011 10100011 10010100\n",
            "L( 9 )-1: 11100101 01001010 10011000 01010001\n",
            "________________________________________________________________ XOR\n",
            "R     9 : 00111100 01110001 00111011 11000101\n",
            "\n",
            ">>>>>>>>>>>>>>>>>>>>>>>>>>>>>>>> enchipering ke- 10 <<<<<<<<<<<<<<<<<<<<<<<<<<<<<<\n",
            "\n",
            "1. Fungsi XOR untuk hasil A 10\n",
            "E(R 9 ): 100111 111000 001110 100010 100111 110111 111000 001010\n",
            "K10    : 101100 011111 001101 000111 101110 100100 011001 001111\n",
            "________________________________________________________________XOR\n",
            "A 10    : 001011 100111 000011 100101 001001 010011 100001 000101\n",
            "\n",
            "2. Persiapan subtitusi S-Box unutk A 10\n",
            "S-box substitution B 10 : 0010 0001 0111 0000 0100 0001 0110 1101\n",
            "\n",
            "3. Permutasi hasil subtitusi S-Box B 10 dan Mendapatkan L1 dan R1\n",
            "P(B 10 ) : 00001100 00010101 01101110 00100100\n",
            "L( 10 )-1: 10010111 11000000 00010111 10101000\n",
            "________________________________________________________________ XOR\n",
            "R     10 : 10011011 11010101 01111001 10001100\n",
            "\n",
            ">>>>>>>>>>>>>>>>>>>>>>>>>>>>>>>> enchipering ke- 11 <<<<<<<<<<<<<<<<<<<<<<<<<<<<<<\n",
            "\n",
            "1. Fungsi XOR untuk hasil A 11\n",
            "E(R 10 ): 010011 110111 111010 101010 101111 110011 110001 011001\n",
            "K11    : 001000 010101 111111 010011 110111 101101 001110 000110\n",
            "________________________________________________________________XOR\n",
            "A 11    : 011011 100010 000101 111001 011000 011110 111111 011111\n",
            "\n",
            "2. Persiapan subtitusi S-Box unutk A 11\n",
            "S-box substitution B 11 : 0101 1110 0000 1100 1101 1011 1100 0010\n",
            "\n",
            "3. Permutasi hasil subtitusi S-Box B 11 dan Mendapatkan L1 dan R1\n",
            "P(B 11 ) : 01110001 00111110 10110000 01010011\n",
            "L( 11 )-1: 00111100 01110001 00111011 11000101\n",
            "________________________________________________________________ XOR\n",
            "R     11 : 01001101 01001111 10001011 10010110\n",
            "\n",
            ">>>>>>>>>>>>>>>>>>>>>>>>>>>>>>>> enchipering ke- 12 <<<<<<<<<<<<<<<<<<<<<<<<<<<<<<\n",
            "\n",
            "1. Fungsi XOR untuk hasil A 12\n",
            "E(R 11 ): 001001 011010 101001 011111 110001 010111 110010 101100\n",
            "K12    : 011101 010111 000111 110101 100101 000110 011111 101001\n",
            "________________________________________________________________XOR\n",
            "A 12    : 010100 001101 101110 101010 010100 010001 101101 000101\n",
            "\n",
            "2. Persiapan subtitusi S-Box unutk A 12\n",
            "S-box substitution B 12 : 0110 1000 0000 1011 0011 0110 1010 1101\n",
            "\n",
            "3. Permutasi hasil subtitusi S-Box B 12 dan Mendapatkan L1 dan R1\n",
            "P(B 12 ) : 10101000 01101000 10001110 11101001\n",
            "L( 12 )-1: 10011011 11010101 01111001 10001100\n",
            "________________________________________________________________ XOR\n",
            "R     12 : 00110011 10111101 11110111 01100101\n",
            "\n",
            ">>>>>>>>>>>>>>>>>>>>>>>>>>>>>>>> enchipering ke- 13 <<<<<<<<<<<<<<<<<<<<<<<<<<<<<<\n",
            "\n",
            "1. Fungsi XOR untuk hasil A 13\n",
            "E(R 12 ): 100110 100111 110111 111011 111110 101110 101100 001010\n",
            "K13    : 100101 111100 010111 010001 111110 101011 101001 000001\n",
            "________________________________________________________________XOR\n",
            "A 13    : 000011 011011 100000 101010 000000 000101 000101 001011\n",
            "\n",
            "2. Persiapan subtitusi S-Box unutk A 13\n",
            "S-box substitution B 13 : 1111 1001 1101 1011 0010 0100 1011 0011\n",
            "\n",
            "3. Permutasi hasil subtitusi S-Box B 13 dan Mendapatkan L1 dan R1\n",
            "P(B 13 ) : 10000110 11001011 11001111 11001011\n",
            "L( 13 )-1: 01001101 01001111 10001011 10010110\n",
            "________________________________________________________________ XOR\n",
            "R     13 : 11001011 10000100 01000100 01011101\n",
            "\n",
            ">>>>>>>>>>>>>>>>>>>>>>>>>>>>>>>> enchipering ke- 14 <<<<<<<<<<<<<<<<<<<<<<<<<<<<<<\n",
            "\n",
            "1. Fungsi XOR untuk hasil A 14\n",
            "E(R 13 ): 111001 010111 110000 001000 001000 001000 001011 111011\n",
            "K14    : 010111 110100 001110 110111 111100 101110 011100 111010\n",
            "________________________________________________________________XOR\n",
            "A 14    : 101110 100011 111110 111111 110100 100110 010111 000001\n",
            "\n",
            "2. Persiapan subtitusi S-Box unutk A 14\n",
            "S-box substitution B 14 : 1011 1000 0111 1110 1100 0101 1100 0001\n",
            "\n",
            "3. Permutasi hasil subtitusi S-Box B 14 dan Mendapatkan L1 dan R1\n",
            "P(B 14 ) : 00000101 11011101 00111010 01001111\n",
            "L( 14 )-1: 00110011 10111101 11110111 01100101\n",
            "________________________________________________________________ XOR\n",
            "R     14 : 00110110 01100000 11001101 00101010\n",
            "\n",
            ">>>>>>>>>>>>>>>>>>>>>>>>>>>>>>>> enchipering ke- 15 <<<<<<<<<<<<<<<<<<<<<<<<<<<<<<\n",
            "\n",
            "1. Fungsi XOR untuk hasil A 15\n",
            "E(R 14 ): 000110 101100 001100 000001 011001 011010 100101 010100\n",
            "K15    : 101111 111001 000110 001101 001111 010011 111100 001010\n",
            "________________________________________________________________XOR\n",
            "A 15    : 101001 010101 001010 001100 010110 001001 011001 011110\n",
            "\n",
            "2. Persiapan subtitusi S-Box unutk A 15\n",
            "S-box substitution B 15 : 0100 0001 0011 1001 1111 0111 0010 0111\n",
            "\n",
            "3. Permutasi hasil subtitusi S-Box B 15 dan Mendapatkan L1 dan R1\n",
            "P(B 15 ) : 10100101 00100110 11101100 11101100\n",
            "L( 15 )-1: 11001011 10000100 01000100 01011101\n",
            "________________________________________________________________ XOR\n",
            "R     15 : 01101110 10100010 10101000 10110001\n",
            "\n",
            ">>>>>>>>>>>>>>>>>>>>>>>>>>>>>>>> enchipering ke- 16 <<<<<<<<<<<<<<<<<<<<<<<<<<<<<<\n",
            "\n",
            "1. Fungsi XOR untuk hasil A 16\n",
            "E(R 15 ): 101101 011101 010100 000101 010101 010001 010110 100010\n",
            "K16    : 110010 110011 110110 001011 000011 100001 011111 110101\n",
            "________________________________________________________________XOR\n",
            "A 16    : 011111 101110 100010 001110 010110 110000 001001 010111\n",
            "\n",
            "2. Persiapan subtitusi S-Box unutk A 16\n",
            "S-box substitution B 16 : 1000 0001 0110 1010 1111 0111 0100 1011\n",
            "\n",
            "3. Permutasi hasil subtitusi S-Box B 16 dan Mendapatkan L1 dan R1\n",
            "P(B 16 ) : 00101001 11110111 01101000 11001100\n",
            "L( 16 )-1: 00110110 01100000 11001101 00101010\n",
            "________________________________________________________________ XOR\n",
            "R     16 : 00011111 10010111 10100101 11100110\n",
            "\n",
            "L16: 00011111 10010111 10100101 11100110\n",
            "R16: 01101110 10100010 10101000 10110001\n"
          ]
        }
      ],
      "source": [
        "print(\"\\n3. Proses Enchipering dengan kondisi sudah membangkitkan kunci enkripsi\")\n",
        "\n",
        "\n",
        "for i in range(1, 16):\n",
        "\tprint(\"\\n>>>>>>>>>>>>>>>>>>>>>>>>>>>>>>>> enchipering ke-\",i+1,\"<<<<<<<<<<<<<<<<<<<<<<<<<<<<<<\")\n",
        "\n",
        "\t# Expansion R D-box: Expanding the 32 bits data into 48 bits\n",
        "\tprint(\"\\n1. Fungsi XOR untuk hasil A\",i+1)\n",
        "\n",
        "\tright_expanded = \"\"\n",
        "\tfor j in range(0, 48):\n",
        "\t\tright_expanded = right_expanded + right[exp_d[j] - 1]\n",
        "\n",
        "\n",
        "\tright_expanded_with_spacing = ' '.join(right_expanded[i:i + 6] for i in range(0, len(right_expanded), 6))\n",
        "\tprint(\"E(R\", i,\"):\",right_expanded_with_spacing)\n",
        "\n",
        "\tbinary_key = rkb[i]\n",
        "\tbinary_key_with_spacing = ' '.join(binary_key[i:i+6] for i in range(0, len(binary_key), 6))\n",
        "\tprint(\"K{:2d}    : {}\".format(i + 1, binary_key_with_spacing))\n",
        "\tprint(\"________________________________________________________________XOR\")\n",
        "\n",
        "\t# XOR RoundKey[i] and right_expanded\n",
        "\txor_x = \"\"\n",
        "\tfor j in range(len(right_expanded)):\n",
        "\t\tif right_expanded[j] ==  rkb[i][j]:\n",
        "\t\t\txor_x = xor_x + \"0\"\n",
        "\t\telse:\n",
        "\t\t\txor_x = xor_x + \"1\"\n",
        "\n",
        "\n",
        "\t# Output hasil expansion\n",
        "\txor_with_spacing = ' '.join(xor_x[i:i + 6] for i in range(0, len(xor_x), 6))\n",
        "\tprint(\"A\", i + 1,\"   :\",xor_with_spacing)\n",
        "\n",
        "\tprint(\"\\n2. Persiapan subtitusi S-Box unutk A\",i+1)\n",
        "\t# S-boxex: substituting the value from s-box table by calculating row and column\n",
        "\tsbox_str = \"\"\n",
        "\tfor j in range(0, 8):\n",
        "\t\trow = bin2dec(int(xor_x[j * 6] + xor_x[j * 6 + 5]))\n",
        "\t\tcol = bin2dec(int(xor_x[j * 6 + 1] + xor_x[j * 6 + 2] + xor_x[j * 6 + 3] + xor_x[j * 6 + 4]))\n",
        "\t\tval = sbox[j][row][col]\n",
        "\t\tsbox_str = sbox_str + dec2bin(val)\n",
        "\n",
        "\t# Output hasil substitusi S-box\n",
        "\tsbox_with_spacing = ' '.join(sbox_str[i:i + 4] for i in range(0, len(sbox_str), 4))\n",
        "\tprint(\"S-box substitution B\", i + 1,\":\", sbox_with_spacing)\n",
        "\n",
        "\tprint(\"\\n3. Permutasi hasil subtitusi S-Box B\",i+1, \"dan Mendapatkan L1 dan R1\")\n",
        "\t# Straight D-box: After substituting rearranging the bits\n",
        "\n",
        "\tsbox_str_hsl = \"\"\n",
        "\tfor k in range(0, 32):\n",
        "\t\tsbox_str_hsl = sbox_str_hsl + sbox_str[per[k] - 1]\n",
        "\n",
        "\n",
        "\t# Output hasil permutasi substitusi S-box\n",
        "\tsbox_with_spacing = ' '.join(sbox_str_hsl[i:i + 8] for i in range(0, len(sbox_str_hsl), 8))\n",
        "\tprint(\"P(B\",i + 1,\") :\", sbox_with_spacing)\n",
        "\n",
        "\tleft_with_spacing = ' '.join(left[i:i + 8] for i in range(0, len(left), 8))\n",
        "\tprint(\"L(\",i+1,\")-1:\",left_with_spacing)\n",
        "\tprint(\"________________________________________________________________ XOR\")\n",
        "\n",
        "\t# XOR left and sbox_str\n",
        "\tresult = \"\"\n",
        "\tfor j in range(len(left)):\n",
        "\t\tif left[j] ==  sbox_str_hsl[j]:\n",
        "\t\t\tresult = result + \"0\"\n",
        "\t\telse:\n",
        "\t\t\tresult = result + \"1\"\n",
        "\n",
        "\n",
        "\tresult_R_with_spacing = ' '.join(result[i:i + 8] for i in range(0, len(result), 8))\n",
        "\tprint(\"R    \", i+1,\":\",result_R_with_spacing)\n",
        "\tleft = result\n",
        "\n",
        "\t# Swapper\n",
        "\tif(i != 15):\n",
        "\t\tleft, right = right, left\n",
        "swapper_left_with_spacing = ' '.join(left[i:i + 8] for i in range(0, len(left), 8))\n",
        "print(\"\\nL16:\",swapper_left_with_spacing)\n",
        "swapper_right_with_spacing = ' '.join(right[i:i + 8] for i in range(0, len(right), 8))\n",
        "print(\"R16:\",swapper_right_with_spacing)\n"
      ]
    },
    {
      "cell_type": "markdown",
      "source": [
        "- **Setelah mendapatkan L16 dan R16 maka digabungkan**"
      ],
      "metadata": {
        "id": "Wy5Na4Ba1fQA"
      }
    },
    {
      "cell_type": "code",
      "execution_count": 44,
      "metadata": {
        "colab": {
          "base_uri": "https://localhost:8080/"
        },
        "id": "VR8vWj9AMW06",
        "outputId": "897c9c43-31bf-4ada-e2f3-546bb0a73b2f"
      },
      "outputs": [
        {
          "output_type": "stream",
          "name": "stdout",
          "text": [
            "\n",
            "L16,R16: 00011111 10010111 10100101 11100110 01101110 10100010 10101000 10110001\n"
          ]
        }
      ],
      "source": [
        "# Combination\n",
        "combine = left + right\n",
        "combine_with_spacing = ' '.join(combine[i:i + 8] for i in range(0, len(combine), 8))\n",
        "print(\"\\nL16,R16:\",combine_with_spacing)"
      ]
    },
    {
      "cell_type": "markdown",
      "source": [
        "-  **Setelah digabungkan lalu dilakukan permutasi final dengan tabel invers permutasi**"
      ],
      "metadata": {
        "id": "lwKDJi8M1uK0"
      }
    },
    {
      "cell_type": "code",
      "execution_count": 45,
      "metadata": {
        "id": "ylfUukcDMW06"
      },
      "outputs": [],
      "source": [
        "# Final Permutation Table\n",
        "final_perm = [40, 8, 48, 16, 56, 24, 64, 32,\n",
        "\t\t\t39, 7, 47, 15, 55, 23, 63, 31,\n",
        "\t\t\t38, 6, 46, 14, 54, 22, 62, 30,\n",
        "\t\t\t37, 5, 45, 13, 53, 21, 61, 29,\n",
        "\t\t\t36, 4, 44, 12, 52, 20, 60, 28,\n",
        "\t\t\t35, 3, 43, 11, 51, 19, 59, 27,\n",
        "\t\t\t34, 2, 42, 10, 50, 18, 58, 26,\n",
        "\t\t\t33, 1, 41, 9, 49, 17, 57, 25]"
      ]
    },
    {
      "cell_type": "code",
      "execution_count": 46,
      "metadata": {
        "id": "lY-MqbXvMW06"
      },
      "outputs": [],
      "source": [
        "# Final permutation: final rearranging of bits to get cipher text\n",
        "cipher_text = \"\"\n",
        "for i in range(64):\n",
        "  cipher_text += combine[final_perm[i] - 1]"
      ]
    },
    {
      "cell_type": "code",
      "execution_count": 47,
      "metadata": {
        "colab": {
          "base_uri": "https://localhost:8080/"
        },
        "id": "xpTcDUHuMW07",
        "outputId": "700ae507-792c-41da-fa09-c3d191744eaf"
      },
      "outputs": [
        {
          "output_type": "stream",
          "name": "stdout",
          "text": [
            "\n",
            "Cipher Binner :  01010110 11110001 11010101 11001000 01010010 10101111 10000001 00111111\n"
          ]
        }
      ],
      "source": [
        "cipher_text_with_spacing = ' '.join(cipher_text[i:i + 8] for i in range(0, len(cipher_text), 8))\n",
        "print(\"\\nCipher Binner : \", cipher_text_with_spacing)"
      ]
    },
    {
      "cell_type": "markdown",
      "source": [
        "- **Hasil jika di konversi ke benti ASCII**"
      ],
      "metadata": {
        "id": "4XHu4j9D10Sv"
      }
    },
    {
      "cell_type": "code",
      "source": [
        "def biner_ke_ascii(biner):\n",
        "    # Memisahkan string biner ke dalam potongan 8-bit\n",
        "    potongan_biner = [biner[i:i+8] for i in range(0, len(biner), 8)]\n",
        "\n",
        "    # Mengonversi setiap potongan biner menjadi karakter ASCII\n",
        "    teks_ascii = ''.join([chr(int(potongan, 2)) for potongan in potongan_biner])\n",
        "\n",
        "    return teks_ascii\n",
        "\n",
        "print(\"\\nCipher ASSCI : \", biner_ke_ascii(cipher_text))"
      ],
      "metadata": {
        "colab": {
          "base_uri": "https://localhost:8080/"
        },
        "id": "h4b7uaBxzV15",
        "outputId": "28ee16de-c410-4a56-f482-88d029dec3ff"
      },
      "execution_count": 48,
      "outputs": [
        {
          "output_type": "stream",
          "name": "stdout",
          "text": [
            "\n",
            "Cipher ASSCI :  VñÕÈR¯?\n"
          ]
        }
      ]
    },
    {
      "cell_type": "markdown",
      "metadata": {
        "id": "C9e20WFHMW07"
      },
      "source": [
        "# **5. Proses Dechipering**\n",
        "\n",
        "\n",
        "> Dekripsi terhadap cipherteks merupakan kebalikan dari proses enkripsi.\n",
        "\n",
        "> DES menggunakan algoritma yang sama untuk proses enkripsi dan dekripsi.\n",
        "\n",
        "> Pada proses dekripsi urutan kunci yang digunakan adalah K16, K15, …, K1.\n",
        "Untuk tiap putaran 16, 15, …, 1\n",
        "\n"
      ]
    },
    {
      "cell_type": "markdown",
      "source": [
        "- **Memasukkan hasil Chiper Text sebelumnya sebagai Plaintext**"
      ],
      "metadata": {
        "id": "zyxBJKzG17yf"
      }
    },
    {
      "cell_type": "code",
      "source": [
        "pt=cipher_text"
      ],
      "metadata": {
        "id": "ttuBZQlR0F_N"
      },
      "execution_count": 49,
      "outputs": []
    },
    {
      "cell_type": "markdown",
      "source": [
        "- **Membalikkan Kunci menjadi K16, K15, …, K1**"
      ],
      "metadata": {
        "id": "aYReKbEV2GlI"
      }
    },
    {
      "cell_type": "code",
      "execution_count": 50,
      "metadata": {
        "id": "92YMx9OcMW07"
      },
      "outputs": [],
      "source": [
        "rkb_rev = rkb[::-1]\n",
        "rkb=rkb_rev"
      ]
    },
    {
      "cell_type": "markdown",
      "source": [
        "- **Melakukan proses yang sama seperti Enchipering**"
      ],
      "metadata": {
        "id": "am0QN5KJ2NOb"
      }
    },
    {
      "cell_type": "code",
      "execution_count": 51,
      "metadata": {
        "colab": {
          "base_uri": "https://localhost:8080/"
        },
        "id": "0IqS0_htMW07",
        "outputId": "bb54f1f3-bff4-454c-cca4-90c558b1b0b9"
      },
      "outputs": [
        {
          "output_type": "stream",
          "name": "stdout",
          "text": [
            "\n",
            "3. Proses Dekripsi dengan kondisi sudah membalikkan kunci enkripsi\n",
            "\n",
            ">>>>>>>>>>>>>>>>>>>>>>>>>>>>>>>> enchipering ke- 1 <<<<<<<<<<<<<<<<<<<<<<<<<<<<<<\n",
            "\n",
            "1. Fungsi XOR untuk hasil A 1\n",
            "E(R 0 ): 101101 011101 010100 000101 010101 010001 010110 100010\n",
            "K 1    : 110010 110011 110110 001011 000011 100001 011111 110101\n",
            "________________________________________________________________XOR\n",
            "A 1    : 011111 101110 100010 001110 010110 110000 001001 010111\n",
            "\n",
            "2. Persiapan subtitusi S-Box unutk A 1\n",
            "S-box substitution B 1 : 1000 0001 0110 1010 1111 0111 0100 1011\n",
            "\n",
            "3. Permutasi hasil subtitusi S-Box B 1 dan Mendapatkan L1 dan R1\n",
            "P(B 1 ) : 00101001 11110111 01101000 11001100\n",
            "L( 1 )-1: 00011111 10010111 10100101 11100110\n",
            "________________________________________________________________ XOR\n",
            "R     1 : 00110110 01100000 11001101 00101010\n",
            "\n",
            ">>>>>>>>>>>>>>>>>>>>>>>>>>>>>>>> enchipering ke- 2 <<<<<<<<<<<<<<<<<<<<<<<<<<<<<<\n",
            "\n",
            "1. Fungsi XOR untuk hasil A 2\n",
            "E(R 1 ): 000110 101100 001100 000001 011001 011010 100101 010100\n",
            "K 2    : 101111 111001 000110 001101 001111 010011 111100 001010\n",
            "________________________________________________________________XOR\n",
            "A 2    : 101001 010101 001010 001100 010110 001001 011001 011110\n",
            "\n",
            "2. Persiapan subtitusi S-Box unutk A 2\n",
            "S-box substitution B 2 : 0100 0001 0011 1001 1111 0111 0010 0111\n",
            "\n",
            "3. Permutasi hasil subtitusi S-Box B 2 dan Mendapatkan L1 dan R1\n",
            "P(B 2 ) : 10100101 00100110 11101100 11101100\n",
            "L( 2 )-1: 01101110 10100010 10101000 10110001\n",
            "________________________________________________________________ XOR\n",
            "R     2 : 11001011 10000100 01000100 01011101\n",
            "\n",
            ">>>>>>>>>>>>>>>>>>>>>>>>>>>>>>>> enchipering ke- 3 <<<<<<<<<<<<<<<<<<<<<<<<<<<<<<\n",
            "\n",
            "1. Fungsi XOR untuk hasil A 3\n",
            "E(R 2 ): 111001 010111 110000 001000 001000 001000 001011 111011\n",
            "K 3    : 010111 110100 001110 110111 111100 101110 011100 111010\n",
            "________________________________________________________________XOR\n",
            "A 3    : 101110 100011 111110 111111 110100 100110 010111 000001\n",
            "\n",
            "2. Persiapan subtitusi S-Box unutk A 3\n",
            "S-box substitution B 3 : 1011 1000 0111 1110 1100 0101 1100 0001\n",
            "\n",
            "3. Permutasi hasil subtitusi S-Box B 3 dan Mendapatkan L1 dan R1\n",
            "P(B 3 ) : 00000101 11011101 00111010 01001111\n",
            "L( 3 )-1: 00110110 01100000 11001101 00101010\n",
            "________________________________________________________________ XOR\n",
            "R     3 : 00110011 10111101 11110111 01100101\n",
            "\n",
            ">>>>>>>>>>>>>>>>>>>>>>>>>>>>>>>> enchipering ke- 4 <<<<<<<<<<<<<<<<<<<<<<<<<<<<<<\n",
            "\n",
            "1. Fungsi XOR untuk hasil A 4\n",
            "E(R 3 ): 100110 100111 110111 111011 111110 101110 101100 001010\n",
            "K 4    : 100101 111100 010111 010001 111110 101011 101001 000001\n",
            "________________________________________________________________XOR\n",
            "A 4    : 000011 011011 100000 101010 000000 000101 000101 001011\n",
            "\n",
            "2. Persiapan subtitusi S-Box unutk A 4\n",
            "S-box substitution B 4 : 1111 1001 1101 1011 0010 0100 1011 0011\n",
            "\n",
            "3. Permutasi hasil subtitusi S-Box B 4 dan Mendapatkan L1 dan R1\n",
            "P(B 4 ) : 10000110 11001011 11001111 11001011\n",
            "L( 4 )-1: 11001011 10000100 01000100 01011101\n",
            "________________________________________________________________ XOR\n",
            "R     4 : 01001101 01001111 10001011 10010110\n",
            "\n",
            ">>>>>>>>>>>>>>>>>>>>>>>>>>>>>>>> enchipering ke- 5 <<<<<<<<<<<<<<<<<<<<<<<<<<<<<<\n",
            "\n",
            "1. Fungsi XOR untuk hasil A 5\n",
            "E(R 4 ): 001001 011010 101001 011111 110001 010111 110010 101100\n",
            "K 5    : 011101 010111 000111 110101 100101 000110 011111 101001\n",
            "________________________________________________________________XOR\n",
            "A 5    : 010100 001101 101110 101010 010100 010001 101101 000101\n",
            "\n",
            "2. Persiapan subtitusi S-Box unutk A 5\n",
            "S-box substitution B 5 : 0110 1000 0000 1011 0011 0110 1010 1101\n",
            "\n",
            "3. Permutasi hasil subtitusi S-Box B 5 dan Mendapatkan L1 dan R1\n",
            "P(B 5 ) : 10101000 01101000 10001110 11101001\n",
            "L( 5 )-1: 00110011 10111101 11110111 01100101\n",
            "________________________________________________________________ XOR\n",
            "R     5 : 10011011 11010101 01111001 10001100\n",
            "\n",
            ">>>>>>>>>>>>>>>>>>>>>>>>>>>>>>>> enchipering ke- 6 <<<<<<<<<<<<<<<<<<<<<<<<<<<<<<\n",
            "\n",
            "1. Fungsi XOR untuk hasil A 6\n",
            "E(R 5 ): 010011 110111 111010 101010 101111 110011 110001 011001\n",
            "K 6    : 001000 010101 111111 010011 110111 101101 001110 000110\n",
            "________________________________________________________________XOR\n",
            "A 6    : 011011 100010 000101 111001 011000 011110 111111 011111\n",
            "\n",
            "2. Persiapan subtitusi S-Box unutk A 6\n",
            "S-box substitution B 6 : 0101 1110 0000 1100 1101 1011 1100 0010\n",
            "\n",
            "3. Permutasi hasil subtitusi S-Box B 6 dan Mendapatkan L1 dan R1\n",
            "P(B 6 ) : 01110001 00111110 10110000 01010011\n",
            "L( 6 )-1: 01001101 01001111 10001011 10010110\n",
            "________________________________________________________________ XOR\n",
            "R     6 : 00111100 01110001 00111011 11000101\n",
            "\n",
            ">>>>>>>>>>>>>>>>>>>>>>>>>>>>>>>> enchipering ke- 7 <<<<<<<<<<<<<<<<<<<<<<<<<<<<<<\n",
            "\n",
            "1. Fungsi XOR untuk hasil A 7\n",
            "E(R 6 ): 100111 111000 001110 100010 100111 110111 111000 001010\n",
            "K 7    : 101100 011111 001101 000111 101110 100100 011001 001111\n",
            "________________________________________________________________XOR\n",
            "A 7    : 001011 100111 000011 100101 001001 010011 100001 000101\n",
            "\n",
            "2. Persiapan subtitusi S-Box unutk A 7\n",
            "S-box substitution B 7 : 0010 0001 0111 0000 0100 0001 0110 1101\n",
            "\n",
            "3. Permutasi hasil subtitusi S-Box B 7 dan Mendapatkan L1 dan R1\n",
            "P(B 7 ) : 00001100 00010101 01101110 00100100\n",
            "L( 7 )-1: 10011011 11010101 01111001 10001100\n",
            "________________________________________________________________ XOR\n",
            "R     7 : 10010111 11000000 00010111 10101000\n",
            "\n",
            ">>>>>>>>>>>>>>>>>>>>>>>>>>>>>>>> enchipering ke- 8 <<<<<<<<<<<<<<<<<<<<<<<<<<<<<<\n",
            "\n",
            "1. Fungsi XOR untuk hasil A 8\n",
            "E(R 7 ): 010010 101111 111000 000000 000010 101111 110101 010001\n",
            "K 8    : 111000 001101 101111 101011 111011 011110 011110 000001\n",
            "________________________________________________________________XOR\n",
            "A 8    : 101010 100010 010111 101011 111001 110001 101011 010000\n",
            "\n",
            "2. Persiapan subtitusi S-Box unutk A 8\n",
            "S-box substitution B 8 : 0110 1110 1110 0001 1010 1011 0100 1010\n",
            "\n",
            "3. Permutasi hasil subtitusi S-Box B 8 dan Mendapatkan L1 dan R1\n",
            "P(B 8 ) : 11011001 00111011 10100011 10010100\n",
            "L( 8 )-1: 00111100 01110001 00111011 11000101\n",
            "________________________________________________________________ XOR\n",
            "R     8 : 11100101 01001010 10011000 01010001\n",
            "\n",
            ">>>>>>>>>>>>>>>>>>>>>>>>>>>>>>>> enchipering ke- 9 <<<<<<<<<<<<<<<<<<<<<<<<<<<<<<\n",
            "\n",
            "1. Fungsi XOR untuk hasil A 9\n",
            "E(R 8 ): 111100 001010 101001 010101 010011 110000 001010 100011\n",
            "K 9    : 111101 111000 101000 111010 110000 010011 101111 111011\n",
            "________________________________________________________________XOR\n",
            "A 9    : 000001 110010 000001 101111 100011 100011 100101 011000\n",
            "\n",
            "2. Persiapan subtitusi S-Box unutk A 9\n",
            "S-box substitution B 9 : 0000 1000 1101 1000 1000 0011 1101 0101\n",
            "\n",
            "3. Permutasi hasil subtitusi S-Box B 9 dan Mendapatkan L1 dan R1\n",
            "P(B 9 ) : 00000111 00111001 00101001 01100001\n",
            "L( 9 )-1: 10010111 11000000 00010111 10101000\n",
            "________________________________________________________________ XOR\n",
            "R     9 : 10010000 11111001 00111110 11001001\n",
            "\n",
            ">>>>>>>>>>>>>>>>>>>>>>>>>>>>>>>> enchipering ke- 10 <<<<<<<<<<<<<<<<<<<<<<<<<<<<<<\n",
            "\n",
            "1. Fungsi XOR untuk hasil A 10\n",
            "E(R 9 ): 110010 100001 011111 110010 100111 111101 011001 010011\n",
            "K10    : 111011 001000 010010 110111 111101 100001 100010 111100\n",
            "________________________________________________________________XOR\n",
            "A 10    : 001001 101001 001101 000101 011010 011100 111011 101111\n",
            "\n",
            "2. Persiapan subtitusi S-Box unutk A 10\n",
            "S-box substitution B 10 : 1110 0011 0110 1011 0000 0101 0010 1101\n",
            "\n",
            "3. Permutasi hasil subtitusi S-Box B 10 dan Mendapatkan L1 dan R1\n",
            "P(B 10 ) : 11001000 11000001 11101110 01101100\n",
            "L( 10 )-1: 11100101 01001010 10011000 01010001\n",
            "________________________________________________________________ XOR\n",
            "R     10 : 00101101 10001011 01110110 00111101\n",
            "\n",
            ">>>>>>>>>>>>>>>>>>>>>>>>>>>>>>>> enchipering ke- 11 <<<<<<<<<<<<<<<<<<<<<<<<<<<<<<\n",
            "\n",
            "1. Fungsi XOR untuk hasil A 11\n",
            "E(R 10 ): 100101 011011 110001 010110 101110 101100 000111 111010\n",
            "K11    : 011000 111010 010100 111110 010100 000111 101100 101111\n",
            "________________________________________________________________XOR\n",
            "A 11    : 111101 100001 100101 101000 111010 101011 101011 010101\n",
            "\n",
            "2. Persiapan subtitusi S-Box unutk A 11\n",
            "S-box substitution B 11 : 0110 1101 1101 1100 0011 0101 0100 0110\n",
            "\n",
            "3. Permutasi hasil subtitusi S-Box B 11 dan Mendapatkan L1 dan R1\n",
            "P(B 11 ) : 00100100 00011011 11110011 11111000\n",
            "L( 11 )-1: 10010000 11111001 00111110 11001001\n",
            "________________________________________________________________ XOR\n",
            "R     11 : 10110100 11100010 11001101 00110001\n",
            "\n",
            ">>>>>>>>>>>>>>>>>>>>>>>>>>>>>>>> enchipering ke- 12 <<<<<<<<<<<<<<<<<<<<<<<<<<<<<<\n",
            "\n",
            "1. Fungsi XOR untuk hasil A 12\n",
            "E(R 11 ): 110110 101001 011100 000101 011001 011010 100110 100011\n",
            "K12    : 011111 001110 110000 000111 111010 110101 001110 101000\n",
            "________________________________________________________________XOR\n",
            "A 12    : 101001 100111 101100 000010 100011 101111 101000 001011\n",
            "\n",
            "2. Persiapan subtitusi S-Box unutk A 12\n",
            "S-box substitution B 12 : 0100 0001 0011 1101 1000 1010 1100 0011\n",
            "\n",
            "3. Permutasi hasil subtitusi S-Box B 12 dan Mendapatkan L1 dan R1\n",
            "P(B 12 ) : 10010101 00110010 11011000 01000101\n",
            "L( 12 )-1: 00101101 10001011 01110110 00111101\n",
            "________________________________________________________________ XOR\n",
            "R     12 : 10111000 10111001 10101110 01111000\n",
            "\n",
            ">>>>>>>>>>>>>>>>>>>>>>>>>>>>>>>> enchipering ke- 13 <<<<<<<<<<<<<<<<<<<<<<<<<<<<<<\n",
            "\n",
            "1. Fungsi XOR untuk hasil A 13\n",
            "E(R 12 ): 010111 110001 010111 110011 110101 011100 001111 110001\n",
            "K13    : 011100 101010 110111 010110 110110 110011 010100 011101\n",
            "________________________________________________________________XOR\n",
            "A 13    : 001011 011011 100000 100101 000011 101111 011011 101100\n",
            "\n",
            "2. Persiapan subtitusi S-Box unutk A 13\n",
            "S-box substitution B 13 : 0010 1001 1101 0000 1011 1010 1111 1110\n",
            "\n",
            "3. Permutasi hasil subtitusi S-Box B 13 dan Mendapatkan L1 dan R1\n",
            "P(B 13 ) : 00111111 00111011 01000111 10100001\n",
            "L( 13 )-1: 10110100 11100010 11001101 00110001\n",
            "________________________________________________________________ XOR\n",
            "R     13 : 10001011 11011001 10001010 10010000\n",
            "\n",
            ">>>>>>>>>>>>>>>>>>>>>>>>>>>>>>>> enchipering ke- 14 <<<<<<<<<<<<<<<<<<<<<<<<<<<<<<\n",
            "\n",
            "1. Fungsi XOR untuk hasil A 14\n",
            "E(R 13 ): 010001 010111 111011 110011 110001 010101 010010 100001\n",
            "K14    : 010101 011111 110010 001010 010000 101100 111110 011001\n",
            "________________________________________________________________XOR\n",
            "A 14    : 000100 001000 001001 111001 100001 111001 101100 111000\n",
            "\n",
            "2. Persiapan subtitusi S-Box unutk A 14\n",
            "S-box substitution B 14 : 1101 0110 0011 1100 1011 0110 0111 1111\n",
            "\n",
            "3. Permutasi hasil subtitusi S-Box B 14 dan Mendapatkan L1 dan R1\n",
            "P(B 14 ) : 01101111 10110010 10011100 11111110\n",
            "L( 14 )-1: 10111000 10111001 10101110 01111000\n",
            "________________________________________________________________ XOR\n",
            "R     14 : 11010111 00001011 00110010 10000110\n",
            "\n",
            ">>>>>>>>>>>>>>>>>>>>>>>>>>>>>>>> enchipering ke- 15 <<<<<<<<<<<<<<<<<<<<<<<<<<<<<<\n",
            "\n",
            "1. Fungsi XOR untuk hasil A 15\n",
            "E(R 14 ): 011010 101110 100001 010110 100110 100101 010000 001101\n",
            "K15    : 011110 011010 111011 011001 110110 111100 100111 100101\n",
            "________________________________________________________________XOR\n",
            "A 15    : 000100 110100 011010 001111 010000 011001 110111 101000\n",
            "\n",
            "2. Persiapan subtitusi S-Box unutk A 15\n",
            "S-box substitution B 15 : 1101 1100 0100 0011 1000 0000 1111 1001\n",
            "\n",
            "3. Permutasi hasil subtitusi S-Box B 15 dan Mendapatkan L1 dan R1\n",
            "P(B 15 ) : 10001011 11011001 10001100 00010011\n",
            "L( 15 )-1: 10001011 11011001 10001010 10010000\n",
            "________________________________________________________________ XOR\n",
            "R     15 : 00000000 00000000 00000110 10000011\n",
            "\n",
            ">>>>>>>>>>>>>>>>>>>>>>>>>>>>>>>> enchipering ke- 16 <<<<<<<<<<<<<<<<<<<<<<<<<<<<<<\n",
            "\n",
            "1. Fungsi XOR untuk hasil A 16\n",
            "E(R 15 ): 100000 000000 000000 000000 000000 001101 010000 000110\n",
            "K16    : 000110 110000 001011 101111 111111 000111 000001 110010\n",
            "________________________________________________________________XOR\n",
            "A 16    : 100110 110000 001011 101111 111111 001010 010001 110100\n",
            "\n",
            "2. Persiapan subtitusi S-Box unutk A 16\n",
            "S-box substitution B 16 : 1000 0101 0100 1000 0011 0010 1110 1010\n",
            "\n",
            "3. Permutasi hasil subtitusi S-Box B 16 dan Mendapatkan L1 dan R1\n",
            "P(B 16 ) : 00101000 10110011 01000100 11010001\n",
            "L( 16 )-1: 11010111 00001011 00110010 10000110\n",
            "________________________________________________________________ XOR\n",
            "R     16 : 11111111 10111000 01110110 01010111\n",
            "\n",
            "L16: 11111111 10111000 01110110 01010111\n",
            "R16: 00000000 00000000 00000110 10000011\n"
          ]
        }
      ],
      "source": [
        "print(\"\\n3. Proses Dekripsi dengan kondisi sudah membalikkan kunci enkripsi\")\n",
        "\n",
        "for i in range(0, 16):\n",
        "\tprint(\"\\n>>>>>>>>>>>>>>>>>>>>>>>>>>>>>>>> enchipering ke-\",i+1,\"<<<<<<<<<<<<<<<<<<<<<<<<<<<<<<\")\n",
        "\n",
        "\t# Expansion R D-box: Expanding the 32 bits data into 48 bits\n",
        "\tprint(\"\\n1. Fungsi XOR untuk hasil A\",i+1)\n",
        "\n",
        "\tright_expanded = \"\"\n",
        "\tfor j in range(0, 48):\n",
        "\t\tright_expanded = right_expanded + right[exp_d[j] - 1]\n",
        "\n",
        "\n",
        "\tright_expanded_with_spacing = ' '.join(right_expanded[i:i + 6] for i in range(0, len(right_expanded), 6))\n",
        "\tprint(\"E(R\", i,\"):\",right_expanded_with_spacing)\n",
        "\n",
        "\tbinary_key = rkb[i]\n",
        "\tbinary_key_with_spacing = ' '.join(binary_key[i:i+6] for i in range(0, len(binary_key), 6))\n",
        "\tprint(\"K{:2d}    : {}\".format(i + 1, binary_key_with_spacing))\n",
        "\tprint(\"________________________________________________________________XOR\")\n",
        "\n",
        "\t# XOR RoundKey[i] and right_expanded\n",
        "\txor_x = \"\"\n",
        "\tfor j in range(len(right_expanded)):\n",
        "\t\tif right_expanded[j] ==  rkb[i][j]:\n",
        "\t\t\txor_x = xor_x + \"0\"\n",
        "\t\telse:\n",
        "\t\t\txor_x = xor_x + \"1\"\n",
        "\n",
        "\n",
        "\t# Output hasil expansion\n",
        "\txor_with_spacing = ' '.join(xor_x[i:i + 6] for i in range(0, len(xor_x), 6))\n",
        "\tprint(\"A\", i + 1,\"   :\",xor_with_spacing)\n",
        "\n",
        "\tprint(\"\\n2. Persiapan subtitusi S-Box unutk A\",i+1)\n",
        "\t# S-boxex: substituting the value from s-box table by calculating row and column\n",
        "\tsbox_str = \"\"\n",
        "\tfor j in range(0, 8):\n",
        "\t\trow = bin2dec(int(xor_x[j * 6] + xor_x[j * 6 + 5]))\n",
        "\t\tcol = bin2dec(int(xor_x[j * 6 + 1] + xor_x[j * 6 + 2] + xor_x[j * 6 + 3] + xor_x[j * 6 + 4]))\n",
        "\t\tval = sbox[j][row][col]\n",
        "\t\tsbox_str = sbox_str + dec2bin(val)\n",
        "\n",
        "\t# Output hasil substitusi S-box\n",
        "\tsbox_with_spacing = ' '.join(sbox_str[i:i + 4] for i in range(0, len(sbox_str), 4))\n",
        "\tprint(\"S-box substitution B\", i + 1,\":\", sbox_with_spacing)\n",
        "\n",
        "\tprint(\"\\n3. Permutasi hasil subtitusi S-Box B\",i+1, \"dan Mendapatkan L1 dan R1\")\n",
        "\t# Straight D-box: After substituting rearranging the bits\n",
        "\n",
        "\tsbox_str_hsl = \"\"\n",
        "\tfor k in range(0, 32):\n",
        "\t\tsbox_str_hsl = sbox_str_hsl + sbox_str[per[k] - 1]\n",
        "\n",
        "\n",
        "\n",
        "\t# Output hasil permutasi substitusi S-box\n",
        "\tsbox_with_spacing = ' '.join(sbox_str_hsl[i:i + 8] for i in range(0, len(sbox_str_hsl), 8))\n",
        "\tprint(\"P(B\",i + 1,\") :\", sbox_with_spacing)\n",
        "\n",
        "\tleft_with_spacing = ' '.join(left[i:i + 8] for i in range(0, len(left), 8))\n",
        "\tprint(\"L(\",i+1,\")-1:\",left_with_spacing)\n",
        "\tprint(\"________________________________________________________________ XOR\")\n",
        "\n",
        "\t# XOR left and sbox_str\n",
        "\tresult = \"\"\n",
        "\tfor j in range(len(left)):\n",
        "\t\tif left[j] ==  sbox_str_hsl[j]:\n",
        "\t\t\tresult = result + \"0\"\n",
        "\t\telse:\n",
        "\t\t\tresult = result + \"1\"\n",
        "\n",
        "\n",
        "\tresult_R_with_spacing = ' '.join(result[i:i + 8] for i in range(0, len(result), 8))\n",
        "\tprint(\"R    \", i+1,\":\",result_R_with_spacing)\n",
        "\tleft = result\n",
        "\n",
        "\t# Swapper\n",
        "\tif(i != 15):\n",
        "\t\tleft, right = right, left\n",
        "swapper_left_with_spacing = ' '.join(left[i:i + 8] for i in range(0, len(left), 8))\n",
        "print(\"\\nL16:\",swapper_left_with_spacing)\n",
        "swapper_right_with_spacing = ' '.join(right[i:i + 8] for i in range(0, len(right), 8))\n",
        "print(\"R16:\",swapper_right_with_spacing)\n",
        "\n"
      ]
    },
    {
      "cell_type": "markdown",
      "source": [
        "- **Setelah mendapatkan L16 dan R16 maka digabungkan**"
      ],
      "metadata": {
        "id": "FukBi-RA2YBl"
      }
    },
    {
      "cell_type": "code",
      "source": [
        "# Combination\n",
        "combine = left + right\n",
        "combine_with_spacing = ' '.join(combine[i:i + 8] for i in range(0, len(combine), 8))\n",
        "print(\"\\nL16,R16:\",combine_with_spacing)"
      ],
      "metadata": {
        "colab": {
          "base_uri": "https://localhost:8080/"
        },
        "id": "aumlBy9G1DP8",
        "outputId": "e2465bda-e49c-4b53-9c35-bafdeb48dae4"
      },
      "execution_count": 52,
      "outputs": [
        {
          "output_type": "stream",
          "name": "stdout",
          "text": [
            "\n",
            "L16,R16: 11111111 10111000 01110110 01010111 00000000 00000000 00000110 10000011\n"
          ]
        }
      ]
    },
    {
      "cell_type": "markdown",
      "source": [
        "-  **Setelah digabungkan lalu dilakukan permutasi final dengan tabel invers permutasi**"
      ],
      "metadata": {
        "id": "Ch4DEt5A2cNM"
      }
    },
    {
      "cell_type": "code",
      "source": [
        "# Final permutation: final rearranging of bits to get cipher text\n",
        "cipher_text = \"\"\n",
        "for i in range(64):\n",
        "  cipher_text += combine[final_perm[i] - 1]"
      ],
      "metadata": {
        "id": "RXAHGsrhWNMP"
      },
      "execution_count": 53,
      "outputs": []
    },
    {
      "cell_type": "code",
      "source": [
        "cipher_text_with_spacing = ' '.join(cipher_text[i:i + 8] for i in range(0, len(cipher_text), 8))\n",
        "print(\"\\nDekripsi Binner : \", cipher_text_with_spacing)"
      ],
      "metadata": {
        "colab": {
          "base_uri": "https://localhost:8080/"
        },
        "id": "B53sKOoRWPye",
        "outputId": "fb870fb8-4453-430c-bcbe-f1d4530c5eea"
      },
      "execution_count": 54,
      "outputs": [
        {
          "output_type": "stream",
          "name": "stdout",
          "text": [
            "\n",
            "Dekripsi Binner :  01000011 01001111 01001101 01010000 01010101 01010100 01000101 01010010\n"
          ]
        }
      ]
    },
    {
      "cell_type": "markdown",
      "source": [
        "- **Hasil jika di konversi ke benti ASCII**"
      ],
      "metadata": {
        "id": "2ftGge-Y2jgn"
      }
    },
    {
      "cell_type": "code",
      "source": [
        "def biner_ke_ascii(biner):\n",
        "    # Memisahkan string biner ke dalam potongan 8-bit\n",
        "    potongan_biner = [biner[i:i+8] for i in range(0, len(biner), 8)]\n",
        "\n",
        "    # Mengonversi setiap potongan biner menjadi karakter ASCII\n",
        "    teks_ascii = ''.join([chr(int(potongan, 2)) for potongan in potongan_biner])\n",
        "\n",
        "    return teks_ascii\n",
        "\n",
        "print(\"\\nDekripsi ASSCI : \", biner_ke_ascii(cipher_text))"
      ],
      "metadata": {
        "colab": {
          "base_uri": "https://localhost:8080/"
        },
        "id": "4yKmcrjwzlqT",
        "outputId": "23e1fedd-a8aa-4f48-b316-7f175287c776"
      },
      "execution_count": 55,
      "outputs": [
        {
          "output_type": "stream",
          "name": "stdout",
          "text": [
            "\n",
            "Dekripsi ASSCI :  COMPUTER\n"
          ]
        }
      ]
    }
  ],
  "metadata": {
    "colab": {
      "provenance": []
    },
    "kernelspec": {
      "display_name": "Python 3",
      "name": "python3"
    },
    "language_info": {
      "codemirror_mode": {
        "name": "ipython",
        "version": 3
      },
      "file_extension": ".py",
      "mimetype": "text/x-python",
      "name": "python",
      "nbconvert_exporter": "python",
      "pygments_lexer": "ipython3",
      "version": "3.11.4"
    }
  },
  "nbformat": 4,
  "nbformat_minor": 0
}