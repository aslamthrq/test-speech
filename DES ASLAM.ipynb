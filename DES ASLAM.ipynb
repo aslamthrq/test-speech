{
  "cells": [
    {
      "cell_type": "markdown",
      "metadata": {},
      "source": [
        "# DES (Data Encryption System)\n",
        "\n",
        "**Nama\t: Aslam Thariq Akbar Akrami**\n",
        "**NIM\t: A11.2021.13224**"
      ]
    },
    {
      "cell_type": "markdown",
      "metadata": {},
      "source": [
        "# 1. Inputan Plainttext dan Kunci"
      ]
    },
    {
      "cell_type": "code",
      "execution_count": null,
      "metadata": {
        "id": "Khijg08Szzka"
      },
      "outputs": [],
      "source": [
        "# while True:\n",
        "#     pt = input(\"Masukkan teks 8 karakter: \")\n",
        "#     if len(pt) == 8:\n",
        "#         break\n",
        "#     else:\n",
        "#         print(\"Panjang teks harus 8 karakter!\")\n",
        "# print(\"PlainText\t\t:\", pt)\n",
        "\n",
        "\n",
        "# while True:\n",
        "#     key = input(\"Masukkan kunci bentuk hex: \")\n",
        "#     if len(key) == 16:\n",
        "#         break\n",
        "#     else:\n",
        "#         print(\"Panjang teks harus 8 karakter!\")\n",
        "# print(\"Kunci\t\t\t:\", key)\n",
        "\n",
        "\n",
        "pt=\"COMPUTER\"\n",
        "key = \"133457799BBCDFF1\"\n"
      ]
    },
    {
      "cell_type": "markdown",
      "metadata": {},
      "source": [
        "# 2. Mencari Permutasi Awal Plaintext"
      ]
    },
    {
      "cell_type": "code",
      "execution_count": null,
      "metadata": {},
      "outputs": [],
      "source": [
        "# Dapatkan value ASCII tiap char menggunakan ord()\n",
        "ascii_value = []\n",
        "\n",
        "for i in range(len(pt)):\n",
        "    ascii_value.append(ord(pt[i]))\n",
        "\n",
        "# Print each character of plaintext and its corresponding ASCII value\n",
        "for i in range(len(pt)):\n",
        "  print(f\"{pt[i]}: {ascii_value[i]}\")\n"
      ]
    },
    {
      "cell_type": "markdown",
      "metadata": {},
      "source": [
        "- Mengubah Plaintext ke Binner"
      ]
    },
    {
      "cell_type": "code",
      "execution_count": null,
      "metadata": {},
      "outputs": [],
      "source": [
        "binary_result = \"\"\n",
        "for char in pt:\n",
        "    binary_char = bin(ord(char))[2:].zfill(8)  # Mengonversi karakter ke bilangan biner 8-bit\n",
        "    binary_result += binary_char\n",
        "pt = binary_result\n",
        "\n",
        "\n",
        "print(\"PlainText:\")\n",
        "for i in range(0, len(pt), 8):\n",
        "\tprint(pt[i:i + 8], end=\" \")\n",
        "print()\n",
        "print()\n"
      ]
    },
    {
      "cell_type": "markdown",
      "metadata": {},
      "source": [
        "- Initial Permutation atau Permutasi Awal"
      ]
    },
    {
      "cell_type": "code",
      "execution_count": null,
      "metadata": {},
      "outputs": [],
      "source": [
        "# Table of Position of 64 bits at initial level: Initial Permutation Table\n",
        "initial_perm = [58, 50, 42, 34, 26, 18, 10, 2,\n",
        "\t\t\t\t60, 52, 44, 36, 28, 20, 12, 4,\n",
        "\t\t\t\t62, 54, 46, 38, 30, 22, 14, 6,\n",
        "\t\t\t\t64, 56, 48, 40, 32, 24, 16, 8,\n",
        "\t\t\t\t57, 49, 41, 33, 25, 17, 9, 1,\n",
        "\t\t\t\t59, 51, 43, 35, 27, 19, 11, 3,\n",
        "\t\t\t\t61, 53, 45, 37, 29, 21, 13, 5,\n",
        "\t\t\t\t63, 55, 47, 39, 31, 23, 15, 7]\n",
        "\n",
        "initial_permutation = \"\"\n",
        "for i in range(0, 64):\n",
        "\tinitial_permutation = initial_permutation + pt[initial_perm[i] - 1]\n",
        "\n",
        "pt=initial_permutation\n",
        "\n",
        "# Initial Permutation\n",
        "print(\"1. Permutasi Awal:\")\n",
        "for i in range (0, len(pt),8):\n",
        "\tprint(pt[i:i+8], end=\" \")\n",
        "print()\n",
        "print()\n"
      ]
    },
    {
      "cell_type": "markdown",
      "metadata": {},
      "source": [
        "- Splitting Initial Permutation atau Split HAsil Permutasi Awal"
      ]
    },
    {
      "cell_type": "code",
      "execution_count": null,
      "metadata": {},
      "outputs": [],
      "source": [
        "# Splitting\n",
        "left = pt[0:32]\n",
        "right = pt[32:64]\n",
        "print(\"2. Hasil Pemecahan Permutasi Awal\")\n",
        "# Mencetak left dan right dalam bentuk biner dengan jeda setiap 7 bit\n",
        "print(\"Left (L0):\")\n",
        "binary_left_PT= ' '.join(left[i:i+8] for i in range(0, len(left), 8))\n",
        "print(binary_left_PT)\n",
        "\n",
        "print(\"\\nRight (R0):\")\n",
        "binary_right_PT = ' '.join(right[i:i+8] for i in range(0, len(right), 8))\n",
        "print(binary_right_PT)"
      ]
    },
    {
      "cell_type": "markdown",
      "metadata": {},
      "source": [
        "# 3. Pembangkitan Kunci"
      ]
    },
    {
      "cell_type": "markdown",
      "metadata": {},
      "source": [
        "- Key ke Binner"
      ]
    },
    {
      "cell_type": "code",
      "execution_count": null,
      "metadata": {},
      "outputs": [],
      "source": [
        "# Key Hexadecimal to binary conversion\n",
        "mp = {'0': \"0000\",\n",
        "\t'1': \"0001\",\n",
        "\t'2': \"0010\",\n",
        "\t'3': \"0011\",\n",
        "\t'4': \"0100\",\n",
        "\t'5': \"0101\",\n",
        "\t'6': \"0110\",\n",
        "\t'7': \"0111\",\n",
        "\t'8': \"1000\",\n",
        "\t'9': \"1001\",\n",
        "\t'A': \"1010\",\n",
        "\t'B': \"1011\",\n",
        "\t'C': \"1100\",\n",
        "\t'D': \"1101\",\n",
        "\t'E': \"1110\",\n",
        "\t'F': \"1111\"}\n",
        "binary_key_str = \"\"\n",
        "for i in range(len(key)):\n",
        "\tbinary_key_str = binary_key_str + mp[key[i]]\n",
        "key = binary_key_str\n",
        "\n",
        "# Mencetak key awal dalam bentuk biner (8-bit chunks)\n",
        "print(\"Key Awal (biner):\")\n",
        "binary_key = ' '.join(key[i:i+8] for i in range(0, len(key), 8))\n",
        "print(binary_key)\n",
        "print()"
      ]
    },
    {
      "cell_type": "markdown",
      "metadata": {},
      "source": [
        "- Key Permutation"
      ]
    },
    {
      "cell_type": "code",
      "execution_count": null,
      "metadata": {
        "colab": {
          "base_uri": "https://localhost:8080/"
        },
        "id": "GDx_BYlXx5qU",
        "outputId": "09e8762e-5961-4221-8dd5-f84124238f63"
      },
      "outputs": [],
      "source": [
        "# --parity bit drop table\n",
        "keyp = [57, 49, 41, 33, 25, 17, 9,\n",
        "\t\t1, 58, 50, 42, 34, 26, 18,\n",
        "\t\t10, 2, 59, 51, 43, 35, 27,\n",
        "\t\t19, 11, 3, 60, 52, 44, 36,\n",
        "\t\t63, 55, 47, 39, 31, 23, 15,\n",
        "\t\t7, 62, 54, 46, 38, 30, 22,\n",
        "\t\t14, 6, 61, 53, 45, 37, 29,\n",
        "\t\t21, 13, 5, 28, 20, 12, 4]\n",
        "\n",
        "# getting 56 bit key from 64 bit using the parity bits\n",
        "key_permutation = \"\"\n",
        "for i in range(0, 56):\n",
        "\tkey_permutation = key_permutation + key[keyp[i] - 1]\n",
        "key = key_permutation\n",
        "\n",
        "\n",
        "print(\"Permutasi key PC-1:\")\n",
        "binary_key = ' '.join(key[i:i+7] for i in range(0, len(key), 7))\n",
        "print(binary_key)\n",
        "print()\n"
      ]
    },
    {
      "cell_type": "markdown",
      "metadata": {},
      "source": [
        "- Splitting Key Permutation (Pemecahan C0 dan D0)"
      ]
    },
    {
      "cell_type": "code",
      "execution_count": null,
      "metadata": {},
      "outputs": [],
      "source": [
        "# Splitting\n",
        "left = key[0:28] # rkb for RoundKeys in binary\n",
        "right = key[28:56]\n",
        "\n",
        "print(\"Pemecahan C0 dan D0:\")\n",
        "# Mencetak left dan right dalam bentuk biner dengan jeda setiap 7 bit\n",
        "print(\"Left (C0):\")\n",
        "binary_left = ' '.join(left[i:i+7] for i in range(0, len(left), 7))\n",
        "print(binary_left)\n",
        "\n",
        "print(\"\\nRight (D0):\")\n",
        "binary_right = ' '.join(right[i:i+7] for i in range(0, len(right), 7))\n",
        "print(binary_right)\n"
      ]
    },
    {
      "cell_type": "markdown",
      "metadata": {},
      "source": [
        "- Tabel Wrapping & Left Shift\n",
        "\n",
        "a. Setelah mendapatkan C0 dan D0, sekarang kita membuat 6 blok Cn dan Dn yang setiap blok berasal dari Cn-1 dan Dn-1. \n",
        "\n",
        "b. Selanjutnya, kedua bagian digeser ke kiri (left shift) sepanjang satu atau dua bit bergantung pada tiap putaran. \n",
        "\n",
        "c. Operasi pergeseran bersifat wrapping atau round-shift. \n",
        "\n",
        "\n",
        "| Putaran, i | Jumlah pergeseran bit |\n",
        "| ----------- | :---------: |\n",
        "| 1 | 1 |\n",
        "| 2 | 1 | \n",
        "| 3 | 2 |\n",
        "| 4 | 2 |\n",
        "| 5 | 2 | \n",
        "| 6 | 2 |\n",
        "| 7 | 2 |\n",
        "| 8 | 2 |\n",
        "| 9 | 1 |\n",
        "| 10 | 2 |\n",
        "| 11 | 2 |\n",
        "| 12 | 2 |\n",
        "| 13 | 2 |\n",
        "| 14 | 2 |\n",
        "| 15 | 2 |\n",
        "| 16 | 1 |"
      ]
    },
    {
      "cell_type": "code",
      "execution_count": null,
      "metadata": {},
      "outputs": [],
      "source": [
        "# Number of bit shifts\n",
        "shift_table = [1, 1, 2, 2,\n",
        "\t\t\t2, 2, 2, 2,\n",
        "\t\t\t1, 2, 2, 2,\n",
        "\t\t\t2, 2, 2, 1]\n",
        "\n",
        "print(\"Tabel wrapping dan left shift:\")\n",
        "# Inisialisasi list untuk menyimpan setiap iterasi wrapping dan left_shift\n",
        "all_L_Lshft = []\n",
        "for i in range(0, 16):\n",
        "\t# Shifting the bits by nth shifts by checking from shift table (Left)\n",
        "\ts = \"\"\n",
        "\tfor i in range(shift_table[i]):\n",
        "\t\tfor j in range(1, len(left)):\n",
        "\t\t\ts = s + left[j]\n",
        "\t\ts = s + left[0]\n",
        "\t\tleft = s\n",
        "\t\ts = \"\"\n",
        "\n",
        "\tall_L_Lshft.append(left)\n",
        "\n",
        "all_R_Lshft = []\n",
        "for i in range(0, 16):\n",
        "\t# Shifting the bits by nth shifts by checking from shift table (Right)\n",
        "\ts = \"\"\n",
        "\tfor i in range(shift_table[i]):\n",
        "\t\tfor j in range(1, len(right)):\n",
        "\t\t\ts = s + right[j]\n",
        "\t\ts = s + right[0]\n",
        "\t\tright = s\n",
        "\t\ts = \"\"\n",
        "\n",
        "\tall_R_Lshft.append(right)\n",
        "\n",
        "for i in range(0, 16):\n",
        "\tprint(\"\\nC\",i+1,\":\", all_L_Lshft[i])\n",
        "\tprint(\"D\",i+1,\":\", all_R_Lshft[i])\n",
        "\t"
      ]
    },
    {
      "cell_type": "markdown",
      "metadata": {},
      "source": [
        "- Combine C[i] dengan D[i]"
      ]
    },
    {
      "cell_type": "code",
      "execution_count": null,
      "metadata": {},
      "outputs": [],
      "source": [
        "print(\"Tabel wrapping dan left shift:\")\n",
        "\n",
        "all_combine= []\n",
        "for i in range(0, 16):\n",
        "\t# Combination of left and right string\n",
        "\tcombine_str = all_L_Lshft[i] + all_R_Lshft[i]\n",
        "\tall_combine.append(combine_str)\n",
        "\n",
        "\tkombinasi_key_with_spacing = ' '.join(combine_str[i:i+8] for i in range(0, len(combine_str), 8))\n",
        "\tprint(\"C\",i+1,\",D\",i+1,\":\", kombinasi_key_with_spacing)"
      ]
    },
    {
      "cell_type": "markdown",
      "metadata": {},
      "source": [
        "- Permutasi PC-2 (Permutasi hasil C[i] & D[i])"
      ]
    },
    {
      "cell_type": "code",
      "execution_count": null,
      "metadata": {},
      "outputs": [],
      "source": [
        "# Key- Compression Table : Compression of key from 56 bits to 48 bits\n",
        "key_comp = [14, 17, 11, 24, 1, 5,\n",
        "\t\t\t3, 28, 15, 6, 21, 10,\n",
        "\t\t\t23, 19, 12, 4, 26, 8,\n",
        "\t\t\t16, 7, 27, 20, 13, 2,\n",
        "\t\t\t41, 52, 31, 37, 47, 55,\n",
        "\t\t\t30, 40, 51, 45, 33, 48,\n",
        "\t\t\t44, 49, 39, 56, 34, 53,\n",
        "\t\t\t46, 42, 50, 36, 29, 32]\n",
        "\n",
        "rkb = []\n",
        "for i in range(0, 16):\n",
        "\t# Compression of key from 56 to 48 bits\n",
        "\tcombine_str=all_combine[i]\n",
        "\n",
        "\tround_key_permutation = \"\"\n",
        "\tfor i in range(0, 48):\n",
        "\t\tround_key_permutation = round_key_permutation + combine_str[key_comp[i] - 1]\n",
        "\t\n",
        "\trkb.append(round_key_permutation)\n",
        "\n",
        "    \n",
        "# Mencetak kunci dalam bentuk biner dengan jeda setiap 6 bit\n",
        "print(\"\\nPermutasi key PC-2 dengan left shift:\")\n",
        "for i in range(16):\n",
        "    binary_key = rkb[i]\n",
        "    binary_key_with_spacing = ' '.join(binary_key[i:i+6] for i in range(0, len(binary_key), 6))\n",
        "    print(\"K {:2d}: {}\".format(i + 1, binary_key_with_spacing))"
      ]
    },
    {
      "cell_type": "markdown",
      "metadata": {},
      "source": [
        "# 4. Proses Enchipering"
      ]
    },
    {
      "cell_type": "code",
      "execution_count": null,
      "metadata": {},
      "outputs": [],
      "source": [
        "# Splitting\n",
        "left = pt[0:32]\n",
        "right = pt[32:64]\n",
        "print(\"Hasil sementara dari proses sebelumnya sudah dilakukan proses permutasi awal terhadap plaintext yang mendapatkan nilai\")\n",
        "# Mencetak left dan right dalam bentuk biner dengan jeda setiap 7 bit\n",
        "print(\"Left (L0):\")\n",
        "binary_left_PT= ' '.join(left[i:i+8] for i in range(0, len(left), 8))\n",
        "print(binary_left_PT)\n",
        "\n",
        "print(\"\\nRight (R0):\")\n",
        "binary_right_PT = ' '.join(right[i:i+8] for i in range(0, len(right), 8))\n",
        "print(binary_right_PT)"
      ]
    },
    {
      "cell_type": "markdown",
      "metadata": {},
      "source": [
        "- Ekspansi RO"
      ]
    },
    {
      "cell_type": "code",
      "execution_count": null,
      "metadata": {},
      "outputs": [],
      "source": [
        "\n",
        "# Tabel ekspansi\n",
        "exp_d = [32, 1, 2, 3, 4, 5, 4, 5,\n",
        "\t\t6, 7, 8, 9, 8, 9, 10, 11,\n",
        "\t\t12, 13, 12, 13, 14, 15, 16, 17,\n",
        "\t\t16, 17, 18, 19, 20, 21, 20, 21,\n",
        "\t\t22, 23, 24, 25, 24, 25, 26, 27,\n",
        "\t\t28, 29, 28, 29, 30, 31, 32, 1]\n",
        "\n",
        "# Expansion R D-box: Expanding the 32 bits data into 48 bits\n",
        "print(\"Hasil Ekpansi dari R0\")\n",
        "right_expanded = ''.join(right[i - 1] for i in exp_d) #untuk menggabungkan nilai R0 dengan table ekspansi\n",
        "right_expanded_with_spacing = ' '.join(right_expanded[i:i + 6] for i in range(0, len(right_expanded), 6))\n",
        "print(\"E(R 0)   :\",right_expanded_with_spacing)"
      ]
    },
    {
      "cell_type": "markdown",
      "metadata": {},
      "source": [
        "- Fungsi XOR dari ekspansi R0 dan Key 1 untuk menghasilkan A1"
      ]
    },
    {
      "cell_type": "code",
      "execution_count": null,
      "metadata": {},
      "outputs": [],
      "source": [
        "# calculating xow of two strings of binary number a and b\n",
        "def xor(a, b):\n",
        "\tans = \"\"\n",
        "\tfor i in range(len(a)):\n",
        "\t\tif a[i] == b[i]:\n",
        "\t\t\tans = ans + \"0\"\n",
        "\t\telse:\n",
        "\t\t\tans = ans + \"1\"\n",
        "\treturn ans\n",
        "\n",
        "print(\"E(R0)     :\",right_expanded_with_spacing)\n",
        "binary_key = rkb[0]\n",
        "binary_key_with_spacing = ' '.join(binary_key[i:i+6] for i in range(0, len(binary_key), 6))\n",
        "print(\"K{:2d}       : {}\".format(1, binary_key_with_spacing))\n",
        "print(\"____________________________________________________________________XOR\")\n",
        "\n",
        "# XOR RoundKey[i] and right_expanded\n",
        "xor_x = xor(right_expanded, rkb[0])\n",
        "\n",
        "# Output hasil expansion\n",
        "xor_with_spacing = ' '.join(xor_x[i:i + 6] for i in range(0, len(xor_x), 6))\n",
        "print(\"A1        :\",xor_with_spacing)"
      ]
    },
    {
      "cell_type": "markdown",
      "metadata": {},
      "source": [
        "- Persiapan subtitusi S-Box"
      ]
    },
    {
      "cell_type": "code",
      "execution_count": null,
      "metadata": {},
      "outputs": [],
      "source": [
        "# S-box Table\n",
        "sbox = [[[14, 4, 13, 1, 2, 15, 11, 8, 3, 10, 6, 12, 5, 9, 0, 7],\n",
        "\t\t[0, 15, 7, 4, 14, 2, 13, 1, 10, 6, 12, 11, 9, 5, 3, 8],\n",
        "\t\t[4, 1, 14, 8, 13, 6, 2, 11, 15, 12, 9, 7, 3, 10, 5, 0],\n",
        "\t\t[15, 12, 8, 2, 4, 9, 1, 7, 5, 11, 3, 14, 10, 0, 6, 13]],\n",
        "\n",
        "\t\t[[15, 1, 8, 14, 6, 11, 3, 4, 9, 7, 2, 13, 12, 0, 5, 10],\n",
        "\t\t[3, 13, 4, 7, 15, 2, 8, 14, 12, 0, 1, 10, 6, 9, 11, 5],\n",
        "\t\t[0, 14, 7, 11, 10, 4, 13, 1, 5, 8, 12, 6, 9, 3, 2, 15],\n",
        "\t\t[13, 8, 10, 1, 3, 15, 4, 2, 11, 6, 7, 12, 0, 5, 14, 9]],\n",
        "\n",
        "\t\t[[10, 0, 9, 14, 6, 3, 15, 5, 1, 13, 12, 7, 11, 4, 2, 8],\n",
        "\t\t[13, 7, 0, 9, 3, 4, 6, 10, 2, 8, 5, 14, 12, 11, 15, 1],\n",
        "\t\t[13, 6, 4, 9, 8, 15, 3, 0, 11, 1, 2, 12, 5, 10, 14, 7],\n",
        "\t\t[1, 10, 13, 0, 6, 9, 8, 7, 4, 15, 14, 3, 11, 5, 2, 12]],\n",
        "\n",
        "\t\t[[7, 13, 14, 3, 0, 6, 9, 10, 1, 2, 8, 5, 11, 12, 4, 15],\n",
        "\t\t[13, 8, 11, 5, 6, 15, 0, 3, 4, 7, 2, 12, 1, 10, 14, 9],\n",
        "\t\t[10, 6, 9, 0, 12, 11, 7, 13, 15, 1, 3, 14, 5, 2, 8, 4],\n",
        "\t\t[3, 15, 0, 6, 10, 1, 13, 8, 9, 4, 5, 11, 12, 7, 2, 14]],\n",
        "\n",
        "\t\t[[2, 12, 4, 1, 7, 10, 11, 6, 8, 5, 3, 15, 13, 0, 14, 9],\n",
        "\t\t[14, 11, 2, 12, 4, 7, 13, 1, 5, 0, 15, 10, 3, 9, 8, 6],\n",
        "\t\t[4, 2, 1, 11, 10, 13, 7, 8, 15, 9, 12, 5, 6, 3, 0, 14],\n",
        "\t\t[11, 8, 12, 7, 1, 14, 2, 13, 6, 15, 0, 9, 10, 4, 5, 3]],\n",
        "\n",
        "\t\t[[12, 1, 10, 15, 9, 2, 6, 8, 0, 13, 3, 4, 14, 7, 5, 11],\n",
        "\t\t[10, 15, 4, 2, 7, 12, 9, 5, 6, 1, 13, 14, 0, 11, 3, 8],\n",
        "\t\t[9, 14, 15, 5, 2, 8, 12, 3, 7, 0, 4, 10, 1, 13, 11, 6],\n",
        "\t\t[4, 3, 2, 12, 9, 5, 15, 10, 11, 14, 1, 7, 6, 0, 8, 13]],\n",
        "\n",
        "\t\t[[4, 11, 2, 14, 15, 0, 8, 13, 3, 12, 9, 7, 5, 10, 6, 1],\n",
        "\t\t[13, 0, 11, 7, 4, 9, 1, 10, 14, 3, 5, 12, 2, 15, 8, 6],\n",
        "\t\t[1, 4, 11, 13, 12, 3, 7, 14, 10, 15, 6, 8, 0, 5, 9, 2],\n",
        "\t\t[6, 11, 13, 8, 1, 4, 10, 7, 9, 5, 0, 15, 14, 2, 3, 12]],\n",
        "\n",
        "\t\t[[13, 2, 8, 4, 6, 15, 11, 1, 10, 9, 3, 14, 5, 0, 12, 7],\n",
        "\t\t[1, 15, 13, 8, 10, 3, 7, 4, 12, 5, 6, 11, 0, 14, 9, 2],\n",
        "\t\t[7, 11, 4, 1, 9, 12, 14, 2, 0, 6, 10, 13, 15, 3, 5, 8],\n",
        "\t\t[2, 1, 14, 7, 4, 10, 8, 13, 15, 12, 9, 0, 3, 5, 6, 11]]]"
      ]
    },
    {
      "cell_type": "code",
      "execution_count": null,
      "metadata": {
        "id": "VgrERIAUxeCT"
      },
      "outputs": [],
      "source": [
        "# Binary to decimal conversion\n",
        "def bin2dec(binary):\n",
        "\n",
        "\tbinary1 = binary\n",
        "\tdecimal, i, n = 0, 0, 0\n",
        "\twhile(binary != 0):\n",
        "\t\tdec = binary % 10\n",
        "\t\tdecimal = decimal + dec * pow(2, i)\n",
        "\t\tbinary = binary//10\n",
        "\t\ti += 1\n",
        "\treturn decimal\n",
        "\n",
        "# Decimal to binary conversion\n",
        "def dec2bin(num):\n",
        "\tres = bin(num).replace(\"0b\", \"\")\n",
        "\tif(len(res) % 4 != 0):\n",
        "\t\tdiv = len(res) / 4\n",
        "\t\tdiv = int(div)\n",
        "\t\tcounter = (4 * (div + 1)) - len(res)\n",
        "\t\tfor i in range(0, counter):\n",
        "\t\t\tres = '0' + res\n",
        "\treturn res"
      ]
    },
    {
      "cell_type": "code",
      "execution_count": null,
      "metadata": {},
      "outputs": [],
      "source": [
        "# S-boxex: substituting the value from s-box table by calculating row and column\n",
        "sbox_str = \"\"\n",
        "for j in range(0, 8):\n",
        "    row = bin2dec(int(xor_x[j * 6] + xor_x[j * 6 + 5]))\n",
        "    col = bin2dec(int(xor_x[j * 6 + 1] + xor_x[j * 6 + 2] + xor_x[j * 6 + 3] + xor_x[j * 6 + 4]))\n",
        "    val = sbox[j][row][col]\n",
        "    sbox_str = sbox_str + dec2bin(val)\n",
        "\n",
        "# Output hasil substitusi S-box\n",
        "sbox_with_spacing = ' '.join(sbox_str[i:i + 4] for i in range(0, len(sbox_str), 4))\n",
        "print(\"S-box substitution B\", i + 1,\":\", sbox_with_spacin\n",
        "  "
      ]
    },
    {
      "cell_type": "code",
      "execution_count": null,
      "metadata": {},
      "outputs": [],
      "source": [
        "print(\"\\n3. Permutasi hasil subtitusi S-Box B\",i+1, \"dan Mendapatkan L1 dan R1\")\n",
        "\t# Straight D-box: After substituting rearranging the bits\n",
        "\tsbox_str = permute(sbox_str, per, 32)\n",
        "\n",
        "\t# Output hasil permutasi substitusi S-box\n",
        "\tsbox_with_spacing = ' '.join(sbox_str[i:i + 8] for i in range(0, len(sbox_str), 8))\n",
        "\tprint(\"P(B\",i + 1,\") :\", sbox_with_spacing)"
      ]
    },
    {
      "cell_type": "code",
      "execution_count": null,
      "metadata": {},
      "outputs": [],
      "source": [
        "# Output hasil permutasi substitusi S-box\n",
        "\tsbox_with_spacing = ' '.join(sbox_str[i:i + 8] for i in range(0, len(sbox_str), 8))\n",
        "\tprint(\"P(B\",i + 1,\") :\", sbox_with_spacing)\n",
        "\n",
        "\tleft_with_spacing = ' '.join(left[i:i + 8] for i in range(0, len(left), 8))\n",
        "\tprint(\"L(\",i+1,\")-1:\",left_with_spacing)\n",
        "\tprint(\"________________________________________________________________ XOR\")\n",
        "\n",
        "\t# XOR left and sbox_str\n",
        "\tresult = xor(left, sbox_str)\n",
        "\tresult_R_with_spacing = ' '.join(result[i:i + 8] for i in range(0, len(result), 8))\n",
        "\tprint(\"R    \", i+1,\":\",result_R_with_spacing)\n",
        "\tleft = result"
      ]
    },
    {
      "cell_type": "code",
      "execution_count": null,
      "metadata": {
        "id": "C2TeAWlyxlSS"
      },
      "outputs": [],
      "source": [
        "# calculating xow of two strings of binary number a and b\n",
        "def xor(a, b):\n",
        "\tans = \"\"\n",
        "\tfor i in range(len(a)):\n",
        "\t\tif a[i] == b[i]:\n",
        "\t\t\tans = ans + \"0\"\n",
        "\t\telse:\n",
        "\t\t\tans = ans + \"1\"\n",
        "\treturn ans\n",
        "\n",
        "# Permute function to rearrange the bits\n",
        "def permute(k, arr, n):\n",
        "\tpermutation = \"\"\n",
        "\tfor i in range(0, n):\n",
        "\t\tpermutation = permutation + k[arr[i] - 1]\n",
        "\treturn permutation"
      ]
    },
    {
      "cell_type": "code",
      "execution_count": null,
      "metadata": {
        "id": "HcTqNuU7xs-A"
      },
      "outputs": [],
      "source": [
        "# Table of Position of 64 bits at initial level: Initial Permutation Table Plain Text\n",
        "initial_perm = [58, 50, 42, 34, 26, 18, 10, 2,\n",
        "\t\t\t\t60, 52, 44, 36, 28, 20, 12, 4,\n",
        "\t\t\t\t62, 54, 46, 38, 30, 22, 14, 6,\n",
        "\t\t\t\t64, 56, 48, 40, 32, 24, 16, 8,\n",
        "\t\t\t\t57, 49, 41, 33, 25, 17, 9, 1,\n",
        "\t\t\t\t59, 51, 43, 35, 27, 19, 11, 3,\n",
        "\t\t\t\t61, 53, 45, 37, 29, 21, 13, 5,\n",
        "\t\t\t\t63, 55, 47, 39, 31, 23, 15, 7]\n",
        "\n",
        "\n",
        "# Straight Permutation Table (P-BOX) dari S-BOX\n",
        "per = [16, 7, 20, 21,\n",
        "\t29, 12, 28, 17,\n",
        "\t1, 15, 23, 26,\n",
        "\t5, 18, 31, 10,\n",
        "\t2, 8, 24, 14,\n",
        "\t32, 27, 3, 9,\n",
        "\t19, 13, 30, 6,\n",
        "\t22, 11, 4, 25]\n",
        "\n"
      ]
    },
    {
      "cell_type": "code",
      "execution_count": null,
      "metadata": {},
      "outputs": [],
      "source": [
        "# Tabel ekspansi R\n",
        "exp_d = [32, 1, 2, 3, 4, 5, 4, 5,\n",
        "\t\t6, 7, 8, 9, 8, 9, 10, 11,\n",
        "\t\t12, 13, 12, 13, 14, 15, 16, 17,\n",
        "\t\t16, 17, 18, 19, 20, 21, 20, 21,\n",
        "\t\t22, 23, 24, 25, 24, 25, 26, 27,\n",
        "\t\t28, 29, 28, 29, 30, 31, 32, 1]"
      ]
    },
    {
      "cell_type": "code",
      "execution_count": null,
      "metadata": {},
      "outputs": [],
      "source": [
        "print(\"\\n3. Proses Enchipering dengan kondisi sudah membangkitkan kunci enkripsi\")\n",
        "\n",
        "for i in range(0, 16):\n",
        "\tprint(\"\\n>>>>>>>>>>>>>>>>>>>>>>>>>>>>>>>> enchipering ke-\",i+1,\"<<<<<<<<<<<<<<<<<<<<<<<<<<<<<<\")\n",
        "\n",
        "\t# Expansion R D-box: Expanding the 32 bits data into 48 bits\n",
        "\tprint(\"\\n1. Fungsi XOR untuk hasil A\",i+1)\n",
        "\tright_expanded = permute(right, exp_d, 48)\n",
        "\tright_expanded_with_spacing = ' '.join(right_expanded[i:i + 6] for i in range(0, len(right_expanded), 6))\n",
        "\tprint(\"E(R\", i,\"):\",right_expanded_with_spacing)\n",
        "\n",
        "\tbinary_key = rkb[i]\n",
        "\tbinary_key_with_spacing = ' '.join(binary_key[i:i+6] for i in range(0, len(binary_key), 6))\n",
        "\tprint(\"K{:2d}    : {}\".format(i + 1, binary_key_with_spacing))\n",
        "\tprint(\"________________________________________________________________XOR\")\n",
        "\n",
        "\t# XOR RoundKey[i] and right_expanded\n",
        "\txor_x = xor(right_expanded, rkb[i])\n",
        "\n",
        "\t# Output hasil expansion\n",
        "\txor_with_spacing = ' '.join(xor_x[i:i + 6] for i in range(0, len(xor_x), 6))\n",
        "\tprint(\"A\", i + 1,\"   :\",xor_with_spacing)\n",
        "\n",
        "\tprint(\"\\n2. Persiapan subtitusi S-Box unutk A\",i+1)\n",
        "\t# S-boxex: substituting the value from s-box table by calculating row and column\n",
        "\tsbox_str = \"\"\n",
        "\tfor j in range(0, 8):\n",
        "\t\trow = bin2dec(int(xor_x[j * 6] + xor_x[j * 6 + 5]))\n",
        "\t\tcol = bin2dec(int(xor_x[j * 6 + 1] + xor_x[j * 6 + 2] + xor_x[j * 6 + 3] + xor_x[j * 6 + 4]))\n",
        "\t\tval = sbox[j][row][col]\n",
        "\t\tsbox_str = sbox_str + dec2bin(val)\n",
        "\n",
        "\t# Output hasil substitusi S-box\n",
        "\tsbox_with_spacing = ' '.join(sbox_str[i:i + 4] for i in range(0, len(sbox_str), 4))\n",
        "\tprint(\"S-box substitution B\", i + 1,\":\", sbox_with_spacing)\n",
        "\n",
        "\tprint(\"\\n3. Permutasi hasil subtitusi S-Box B\",i+1, \"dan Mendapatkan L1 dan R1\")\n",
        "\t# Straight D-box: After substituting rearranging the bits\n",
        "\tsbox_str = permute(sbox_str, per, 32)\n",
        "\n",
        "\t# Output hasil permutasi substitusi S-box\n",
        "\tsbox_with_spacing = ' '.join(sbox_str[i:i + 8] for i in range(0, len(sbox_str), 8))\n",
        "\tprint(\"P(B\",i + 1,\") :\", sbox_with_spacing)\n",
        "\n",
        "\tleft_with_spacing = ' '.join(left[i:i + 8] for i in range(0, len(left), 8))\n",
        "\tprint(\"L(\",i+1,\")-1:\",left_with_spacing)\n",
        "\tprint(\"________________________________________________________________ XOR\")\n",
        "\n",
        "\t# XOR left and sbox_str\n",
        "\tresult = xor(left, sbox_str)\n",
        "\tresult_R_with_spacing = ' '.join(result[i:i + 8] for i in range(0, len(result), 8))\n",
        "\tprint(\"R    \", i+1,\":\",result_R_with_spacing)\n",
        "\tleft = result\n",
        "\n",
        "\t# Swapper\n",
        "\tif(i != 15):\n",
        "\t\tleft, right = right, left\n",
        "swapper_left_with_spacing = ' '.join(left[i:i + 8] for i in range(0, len(left), 8))\n",
        "print(\"\\nL16:\",swapper_left_with_spacing)\n",
        "swapper_right_with_spacing = ' '.join(right[i:i + 8] for i in range(0, len(right), 8))\n",
        "print(\"R16:\",swapper_right_with_spacing)\n",
        "\n",
        "\n"
      ]
    },
    {
      "cell_type": "code",
      "execution_count": null,
      "metadata": {},
      "outputs": [],
      "source": [
        "# Combination\n",
        "combine = left + right\n",
        "combine_with_spacing = ' '.join(combine[i:i + 8] for i in range(0, len(combine), 8))\n",
        "print(\"\\nL16,R16:\",combine_with_spacing)"
      ]
    },
    {
      "cell_type": "code",
      "execution_count": null,
      "metadata": {},
      "outputs": [],
      "source": [
        "# Final Permutation Table\n",
        "final_perm = [40, 8, 48, 16, 56, 24, 64, 32,\n",
        "\t\t\t39, 7, 47, 15, 55, 23, 63, 31,\n",
        "\t\t\t38, 6, 46, 14, 54, 22, 62, 30,\n",
        "\t\t\t37, 5, 45, 13, 53, 21, 61, 29,\n",
        "\t\t\t36, 4, 44, 12, 52, 20, 60, 28,\n",
        "\t\t\t35, 3, 43, 11, 51, 19, 59, 27,\n",
        "\t\t\t34, 2, 42, 10, 50, 18, 58, 26,\n",
        "\t\t\t33, 1, 41, 9, 49, 17, 57, 25]"
      ]
    },
    {
      "cell_type": "code",
      "execution_count": null,
      "metadata": {},
      "outputs": [],
      "source": [
        "# Final permutation: final rearranging of bits to get cipher text\n",
        "cipher_text = \"\"\n",
        "for i in range(64):\n",
        "  cipher_text += combine[final_perm[i] - 1]"
      ]
    },
    {
      "cell_type": "code",
      "execution_count": null,
      "metadata": {},
      "outputs": [],
      "source": [
        "cipher_text_with_spacing = ' '.join(cipher_text[i:i + 8] for i in range(0, len(cipher_text), 8))\n",
        "print(\"\\nCipher Binner : \", cipher_text_with_spacing)"
      ]
    },
    {
      "cell_type": "markdown",
      "metadata": {},
      "source": [
        "# Dechipering"
      ]
    },
    {
      "cell_type": "code",
      "execution_count": null,
      "metadata": {},
      "outputs": [],
      "source": [
        "rkb_rev = rkb[::-1]\n",
        "rkb=rkb_rev"
      ]
    },
    {
      "cell_type": "code",
      "execution_count": null,
      "metadata": {},
      "outputs": [],
      "source": [
        "print(\"\\n3. Proses Enchipering dengan kondisi sudah membangkitkan kunci enkripsi\")\n",
        "\n",
        "for i in range(0, 16):\n",
        "\tprint(\"\\n>>>>>>>>>>>>>>>>>>>>>>>>>>>>>>>> enchipering ke-\",i+1,\"<<<<<<<<<<<<<<<<<<<<<<<<<<<<<<\")\n",
        "\n",
        "\t# Expansion R D-box: Expanding the 32 bits data into 48 bits\n",
        "\tprint(\"\\n1. Fungsi XOR untuk hasil A\",i+1)\n",
        "\tright_expanded = permute(right, exp_d, 48)\n",
        "\tright_expanded_with_spacing = ' '.join(right_expanded[i:i + 6] for i in range(0, len(right_expanded), 6))\n",
        "\tprint(\"E(R\", i,\"):\",right_expanded_with_spacing)\n",
        "\n",
        "\tbinary_key = rkb[i]\n",
        "\tbinary_key_with_spacing = ' '.join(binary_key[i:i+6] for i in range(0, len(binary_key), 6))\n",
        "\tprint(\"K{:2d}    : {}\".format(i + 1, binary_key_with_spacing))\n",
        "\tprint(\"________________________________________________________________XOR\")\n",
        "\n",
        "\t# XOR RoundKey[i] and right_expanded\n",
        "\txor_x = xor(right_expanded, rkb[i])\n",
        "\n",
        "\t# Output hasil expansion\n",
        "\txor_with_spacing = ' '.join(xor_x[i:i + 6] for i in range(0, len(xor_x), 6))\n",
        "\tprint(\"A\", i + 1,\"   :\",xor_with_spacing)\n",
        "\n",
        "\tprint(\"\\n2. Persiapan subtitusi S-Box unutk A\",i+1)\n",
        "\t# S-boxex: substituting the value from s-box table by calculating row and column\n",
        "\tsbox_str = \"\"\n",
        "\tfor j in range(0, 8):\n",
        "\t\trow = bin2dec(int(xor_x[j * 6] + xor_x[j * 6 + 5]))\n",
        "\t\tcol = bin2dec(int(xor_x[j * 6 + 1] + xor_x[j * 6 + 2] + xor_x[j * 6 + 3] + xor_x[j * 6 + 4]))\n",
        "\t\tval = sbox[j][row][col]\n",
        "\t\tsbox_str = sbox_str + dec2bin(val)\n",
        "\n",
        "\t# Output hasil substitusi S-box\n",
        "\tsbox_with_spacing = ' '.join(sbox_str[i:i + 4] for i in range(0, len(sbox_str), 4))\n",
        "\tprint(\"S-box substitution B\", i + 1,\":\", sbox_with_spacing)\n",
        "\n",
        "\tprint(\"\\n3. Permutasi hasil subtitusi S-Box B\",i+1, \"dan Mendapatkan L1 dan R1\")\n",
        "\t# Straight D-box: After substituting rearranging the bits\n",
        "\tsbox_str = permute(sbox_str, per, 32)\n",
        "\n",
        "\t# Output hasil permutasi substitusi S-box\n",
        "\tsbox_with_spacing = ' '.join(sbox_str[i:i + 8] for i in range(0, len(sbox_str), 8))\n",
        "\tprint(\"P(B\",i + 1,\") :\", sbox_with_spacing)\n",
        "\n",
        "\tleft_with_spacing = ' '.join(left[i:i + 8] for i in range(0, len(left), 8))\n",
        "\tprint(\"L(\",i+1,\")-1:\",left_with_spacing)\n",
        "\tprint(\"________________________________________________________________ XOR\")\n",
        "\n",
        "\t# XOR left and sbox_str\n",
        "\tresult = xor(left, sbox_str)\n",
        "\tresult_R_with_spacing = ' '.join(result[i:i + 8] for i in range(0, len(result), 8))\n",
        "\tprint(\"R    \", i+1,\":\",result_R_with_spacing)\n",
        "\tleft = result\n",
        "\n",
        "\t# Swapper\n",
        "\tif(i != 15):\n",
        "\t\tleft, right = right, left\n",
        "swapper_left_with_spacing = ' '.join(left[i:i + 8] for i in range(0, len(left), 8))\n",
        "print(\"\\nL16:\",swapper_left_with_spacing)\n",
        "swapper_right_with_spacing = ' '.join(right[i:i + 8] for i in range(0, len(right), 8))\n",
        "print(\"R16:\",swapper_right_with_spacing)\n",
        "\n",
        "\n",
        "# Combination\n",
        "combine = left + right\n",
        "combine_with_spacing = ' '.join(combine[i:i + 8] for i in range(0, len(combine), 8))\n",
        "print(\"\\nL16,R16:\",combine_with_spacing)\n",
        "\n",
        "# Final permutation: final rearranging of bits to get cipher text\n",
        "cipher_text = permute(combine, final_perm, 64)\n",
        "\n",
        "cipher_text_with_spacing = ' '.join(cipher_text[i:i + 8] for i in range(0, len(cipher_text), 8))\n",
        "print(\"\\nCipher Binner : \", cipher_text_with_spacing)"
      ]
    }
  ],
  "metadata": {
    "colab": {
      "provenance": []
    },
    "kernelspec": {
      "display_name": "Python 3",
      "name": "python3"
    },
    "language_info": {
      "codemirror_mode": {
        "name": "ipython",
        "version": 3
      },
      "file_extension": ".py",
      "mimetype": "text/x-python",
      "name": "python",
      "nbconvert_exporter": "python",
      "pygments_lexer": "ipython3",
      "version": "3.11.4"
    }
  },
  "nbformat": 4,
  "nbformat_minor": 0
}
